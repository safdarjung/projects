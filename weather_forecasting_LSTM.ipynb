{
  "cells": [
    {
      "cell_type": "markdown",
      "metadata": {
        "id": "view-in-github",
        "colab_type": "text"
      },
      "source": [
        "<a href=\"https://colab.research.google.com/github/safdarjung/projects/blob/main/weather_forecasting_LSTM.ipynb\" target=\"_parent\"><img src=\"https://colab.research.google.com/assets/colab-badge.svg\" alt=\"Open In Colab\"/></a>"
      ]
    },
    {
      "cell_type": "code",
      "execution_count": 35,
      "metadata": {
        "id": "VcB9T_rIGxb8"
      },
      "outputs": [],
      "source": [
        "import tensorflow as tf\n",
        "import os\n",
        "import pandas as pd\n",
        "import numpy as np\n"
      ]
    },
    {
      "cell_type": "code",
      "execution_count": 36,
      "metadata": {
        "id": "NgLPKtrZKqRw"
      },
      "outputs": [],
      "source": [
        "zip_path = tf.keras.utils.get_file(\n",
        "    origin='https://storage.googleapis.com/tensorflow/tf-keras-datasets/jena_climate_2009_2016.csv.zip',\n",
        "    fname='jena_climate_2009_2016.csv.zip',\n",
        "    extract=True)\n",
        "csv_path, _ = os.path.splitext(zip_path)"
      ]
    },
    {
      "cell_type": "code",
      "execution_count": 37,
      "metadata": {
        "id": "1iEZ_pS1K_gr"
      },
      "outputs": [],
      "source": [
        "df=pd.read_csv(csv_path)\n",
        "df=df[5::6]"
      ]
    },
    {
      "cell_type": "code",
      "execution_count": 38,
      "metadata": {
        "colab": {
          "base_uri": "https://localhost:8080/"
        },
        "id": "OLchyd7GLZeI",
        "outputId": "043fbe13-0641-435d-cd76-7f4f1f248681"
      },
      "outputs": [
        {
          "output_type": "execute_result",
          "data": {
            "text/plain": [
              "(70091, 15)"
            ]
          },
          "metadata": {},
          "execution_count": 38
        }
      ],
      "source": [
        "df.shape"
      ]
    },
    {
      "cell_type": "code",
      "execution_count": 39,
      "metadata": {
        "colab": {
          "base_uri": "https://localhost:8080/"
        },
        "id": "gR03F06aLe5h",
        "outputId": "582697bb-cbab-4f12-a902-ec3a4899f06e"
      },
      "outputs": [
        {
          "output_type": "stream",
          "name": "stdout",
          "text": [
            "<class 'pandas.core.frame.DataFrame'>\n",
            "RangeIndex: 70091 entries, 5 to 420545\n",
            "Data columns (total 15 columns):\n",
            " #   Column           Non-Null Count  Dtype  \n",
            "---  ------           --------------  -----  \n",
            " 0   Date Time        70091 non-null  object \n",
            " 1   p (mbar)         70091 non-null  float64\n",
            " 2   T (degC)         70091 non-null  float64\n",
            " 3   Tpot (K)         70091 non-null  float64\n",
            " 4   Tdew (degC)      70091 non-null  float64\n",
            " 5   rh (%)           70091 non-null  float64\n",
            " 6   VPmax (mbar)     70091 non-null  float64\n",
            " 7   VPact (mbar)     70091 non-null  float64\n",
            " 8   VPdef (mbar)     70091 non-null  float64\n",
            " 9   sh (g/kg)        70091 non-null  float64\n",
            " 10  H2OC (mmol/mol)  70091 non-null  float64\n",
            " 11  rho (g/m**3)     70091 non-null  float64\n",
            " 12  wv (m/s)         70091 non-null  float64\n",
            " 13  max. wv (m/s)    70091 non-null  float64\n",
            " 14  wd (deg)         70091 non-null  float64\n",
            "dtypes: float64(14), object(1)\n",
            "memory usage: 8.0+ MB\n"
          ]
        }
      ],
      "source": [
        "df.info()"
      ]
    },
    {
      "cell_type": "code",
      "execution_count": 40,
      "metadata": {
        "colab": {
          "base_uri": "https://localhost:8080/"
        },
        "id": "sONhguwiLg6L",
        "outputId": "d562362e-cf57-4efd-b8bd-2219dbcca854"
      },
      "outputs": [
        {
          "output_type": "execute_result",
          "data": {
            "text/plain": [
              "Date Time          0\n",
              "p (mbar)           0\n",
              "T (degC)           0\n",
              "Tpot (K)           0\n",
              "Tdew (degC)        0\n",
              "rh (%)             0\n",
              "VPmax (mbar)       0\n",
              "VPact (mbar)       0\n",
              "VPdef (mbar)       0\n",
              "sh (g/kg)          0\n",
              "H2OC (mmol/mol)    0\n",
              "rho (g/m**3)       0\n",
              "wv (m/s)           0\n",
              "max. wv (m/s)      0\n",
              "wd (deg)           0\n",
              "dtype: int64"
            ]
          },
          "metadata": {},
          "execution_count": 40
        }
      ],
      "source": [
        "df.isnull().sum()"
      ]
    },
    {
      "cell_type": "code",
      "execution_count": 41,
      "metadata": {
        "id": "4HiUL_28Ll39"
      },
      "outputs": [],
      "source": [
        "df.index = pd.to_datetime(df['Date Time'], format='%d.%m.%Y %H:%M:%S')\n",
        "# df[:26]"
      ]
    },
    {
      "cell_type": "code",
      "execution_count": 42,
      "metadata": {
        "colab": {
          "base_uri": "https://localhost:8080/",
          "height": 443
        },
        "id": "38mO8MOoLq02",
        "outputId": "7de69865-11b2-4ab8-b389-00a173b664ee"
      },
      "outputs": [
        {
          "output_type": "execute_result",
          "data": {
            "text/plain": [
              "<Axes: xlabel='Date Time'>"
            ]
          },
          "metadata": {},
          "execution_count": 42
        },
        {
          "output_type": "display_data",
          "data": {
            "text/plain": [
              "<Figure size 640x480 with 1 Axes>"
            ],
            "image/png": "[encoded data removed]"
          },
          "metadata": {}
        }
      ],
      "source": [
        "t = df['T (degC)']\n",
        "t.plot()"
      ]
    },
    {
      "cell_type": "code",
      "execution_count": 43,
      "metadata": {
        "id": "4RXB365yNZCe"
      },
      "outputs": [],
      "source": [
        "from sklearn.metrics import mean_squared_error as mse\n",
        "import matplotlib.pyplot as plt\n",
        "\n",
        "\n",
        "def plot_predictions(model,x,y,start=0,end=100):\n",
        "  predictions = model.predict(x).flatten()\n",
        "  df=pd.DataFrame(data={'Prediction':predictions, 'Actual':y})\n",
        "  plt.plot(df['Prediction'][start:end])\n",
        "  plt.plot(df['Actual'][start:end])\n",
        "  return df,mse(y, predictions)\n",
        "\n",
        "# using previous values to predict the next values continuously\n",
        "# [[[t1], [2], [3], [4], [5]]] [6]\n",
        "# [[[2], [3], [4], [5], [6]]] [7]\n",
        "# [[[3], [4], [5], [6], [7]]] [8]\n",
        "#transforms your dataframe into a format suitable for training\n",
        "# time series forecasting models. It creates features (past data points) and targets (predicted values) based on a sliding window approach\n",
        "def df_to_X_y(df, window_size=5):\n",
        "  df_as_np = df.to_numpy()\n",
        "  X = []\n",
        "  y = []\n",
        "  for i in range(len(df_as_np)-window_size):\n",
        "    row = [[a] for a in df_as_np[i:i+window_size]]\n",
        "    X.append(row)\n",
        "    label = df_as_np[i+window_size]\n",
        "    y.append(label)\n",
        "  return np.array(X), np.array(y)"
      ]
    },
    {
      "cell_type": "code",
      "execution_count": 44,
      "metadata": {
        "colab": {
          "base_uri": "https://localhost:8080/"
        },
        "id": "E9U43mYLTFvM",
        "outputId": "5ff01fa9-db8b-41d2-dd85-bd3cfa052805"
      },
      "outputs": [
        {
          "output_type": "execute_result",
          "data": {
            "text/plain": [
              "((70086, 5, 1), (70086,))"
            ]
          },
          "metadata": {},
          "execution_count": 44
        }
      ],
      "source": [
        "WINDOW_SIZE = 5\n",
        "X1, y1 = df_to_X_y(t, WINDOW_SIZE)\n",
        "X1.shape, y1.shape"
      ]
    },
    {
      "cell_type": "code",
      "execution_count": 45,
      "metadata": {
        "colab": {
          "base_uri": "https://localhost:8080/"
        },
        "id": "p91EnPCfTS0h",
        "outputId": "8cdbed66-ca75-406b-bca7-a66264996bd5"
      },
      "outputs": [
        {
          "output_type": "execute_result",
          "data": {
            "text/plain": [
              "((60000, 5, 1), (60000,), (5000, 5, 1), (5000,), (5086, 5, 1), (5086,))"
            ]
          },
          "metadata": {},
          "execution_count": 45
        }
      ],
      "source": [
        "X_train1, y_train1 = X1[:60000], y1[:60000]\n",
        "X_val1, y_val1 = X1[60000:65000], y1[60000:65000]\n",
        "X_test1, y_test1 = X1[65000:], y1[65000:]\n",
        "X_train1.shape, y_train1.shape, X_val1.shape, y_val1.shape, X_test1.shape, y_test1.shape"
      ]
    },
    {
      "cell_type": "code",
      "execution_count": 46,
      "metadata": {
        "id": "83I1-83dRLpg"
      },
      "outputs": [],
      "source": [
        "from tensorflow.keras.models import Sequential\n",
        "from tensorflow.keras.layers import *\n",
        "from tensorflow.keras.callbacks import ModelCheckpoint\n",
        "from tensorflow.keras.losses import MeanSquaredError\n",
        "from tensorflow.keras.metrics import RootMeanSquaredError\n",
        "from tensorflow.keras.optimizers import Adam\n"
      ]
    },
    {
      "cell_type": "code",
      "execution_count": 47,
      "metadata": {
        "colab": {
          "base_uri": "https://localhost:8080/"
        },
        "id": "Gg0Z7LcSRvNc",
        "outputId": "484b3750-8491-49eb-af39-5ec148e93cd7"
      },
      "outputs": [
        {
          "output_type": "stream",
          "name": "stdout",
          "text": [
            "Model: \"sequential_4\"\n",
            "_________________________________________________________________\n",
            " Layer (type)                Output Shape              Param #   \n",
            "=================================================================\n",
            " conv1d_1 (Conv1D)           (None, 4, 64)             192       \n",
            "                                                                 \n",
            " flatten_1 (Flatten)         (None, 256)               0         \n",
            "                                                                 \n",
            " dense_8 (Dense)             (None, 8)                 2056      \n",
            "                                                                 \n",
            " dense_9 (Dense)             (None, 1)                 9         \n",
            "                                                                 \n",
            "=================================================================\n",
            "Total params: 2257 (8.82 KB)\n",
            "Trainable params: 2257 (8.82 KB)\n",
            "Non-trainable params: 0 (0.00 Byte)\n",
            "_________________________________________________________________\n"
          ]
        }
      ],
      "source": [
        "\n",
        "model_conv = Sequential()\n",
        "model_conv.add(InputLayer((5, 1)))\n",
        "model_conv.add(Conv1D(64,kernel_size=2))\n",
        "model_conv.add(Flatten())\n",
        "model_conv.add(Dense(8, 'relu'))\n",
        "model_conv.add(Dense(1, 'linear'))\n",
        "\n",
        "model_conv.summary()"
      ]
    },
    {
      "cell_type": "code",
      "execution_count": 48,
      "metadata": {
        "id": "7krkqwMGSj6i"
      },
      "outputs": [],
      "source": [
        "cp1 = ModelCheckpoint('model_conv/', save_best_only=True)\n",
        "model_conv.compile(loss=MeanSquaredError(), optimizer=Adam(learning_rate=0.0001), metrics=[RootMeanSquaredError()])"
      ]
    },
    {
      "cell_type": "code",
      "execution_count": 49,
      "metadata": {
        "id": "v9zLr5AUTd5d"
      },
      "outputs": [],
      "source": [
        "# model_conv.fit(X_train1,y_train1, validation_data=(X_val1,y_val1),epochs=10,callbacks=[cp1])"
      ]
    },
    {
      "cell_type": "code",
      "execution_count": 50,
      "metadata": {
        "colab": {
          "base_uri": "https://localhost:8080/"
        },
        "id": "0n2a0z1sS-W9",
        "outputId": "1fe47131-549f-4eec-a514-be29cf4cf324"
      },
      "outputs": [
        {
          "output_type": "stream",
          "name": "stdout",
          "text": [
            "Model: \"sequential_5\"\n",
            "_________________________________________________________________\n",
            " Layer (type)                Output Shape              Param #   \n",
            "=================================================================\n",
            " lstm_2 (LSTM)               (None, 64)                16896     \n",
            "                                                                 \n",
            " dense_10 (Dense)            (None, 8)                 520       \n",
            "                                                                 \n",
            " dense_11 (Dense)            (None, 1)                 9         \n",
            "                                                                 \n",
            "=================================================================\n",
            "Total params: 17425 (68.07 KB)\n",
            "Trainable params: 17425 (68.07 KB)\n",
            "Non-trainable params: 0 (0.00 Byte)\n",
            "_________________________________________________________________\n"
          ]
        }
      ],
      "source": [
        "model_lstm = Sequential()\n",
        "model_lstm.add(InputLayer((5, 1)))\n",
        "model_lstm.add(LSTM(64))\n",
        "model_lstm.add(Dense(8, 'relu'))\n",
        "model_lstm.add(Dense(1, 'linear'))\n",
        "\n",
        "model_lstm.summary()"
      ]
    },
    {
      "cell_type": "code",
      "execution_count": 51,
      "metadata": {
        "id": "WGn7td30VhRc"
      },
      "outputs": [],
      "source": [
        "cp2 = ModelCheckpoint('model_lstm/', save_best_only=True)\n",
        "model_lstm.compile(loss=MeanSquaredError(), optimizer=Adam(learning_rate=0.0001), metrics=[RootMeanSquaredError()])"
      ]
    },
    {
      "cell_type": "code",
      "execution_count": 52,
      "metadata": {
        "id": "WR5pym3uV2Gn"
      },
      "outputs": [],
      "source": [
        "# model_lstm.fit(X_train1,y_train1, validation_data=(X_val1,y_val1),epochs=10,callbacks=[cp2])"
      ]
    },
    {
      "cell_type": "code",
      "execution_count": 53,
      "metadata": {
        "id": "QcixF30uV8nE",
        "colab": {
          "base_uri": "https://localhost:8080/"
        },
        "outputId": "d5df2116-a751-467e-fb72-6325d3908b11"
      },
      "outputs": [
        {
          "output_type": "stream",
          "name": "stdout",
          "text": [
            "Model: \"sequential_6\"\n",
            "_________________________________________________________________\n",
            " Layer (type)                Output Shape              Param #   \n",
            "=================================================================\n",
            " gru_1 (GRU)                 (None, 64)                12864     \n",
            "                                                                 \n",
            " dense_12 (Dense)            (None, 8)                 520       \n",
            "                                                                 \n",
            " dense_13 (Dense)            (None, 1)                 9         \n",
            "                                                                 \n",
            "=================================================================\n",
            "Total params: 13393 (52.32 KB)\n",
            "Trainable params: 13393 (52.32 KB)\n",
            "Non-trainable params: 0 (0.00 Byte)\n",
            "_________________________________________________________________\n"
          ]
        }
      ],
      "source": [
        "model_gru = Sequential()\n",
        "model_gru.add(InputLayer((5, 1)))\n",
        "model_gru.add(GRU(64))\n",
        "model_gru.add(Dense(8, 'relu'))\n",
        "model_gru.add(Dense(1, 'linear'))\n",
        "\n",
        "model_gru.summary()\n"
      ]
    },
    {
      "cell_type": "code",
      "execution_count": 54,
      "metadata": {
        "id": "uSxnBJdeWWLj"
      },
      "outputs": [],
      "source": [
        "cp3 = ModelCheckpoint('model_gru/', save_best_only=True)\n",
        "model_gru.compile(loss=MeanSquaredError(), optimizer=Adam(learning_rate=0.0001), metrics=[RootMeanSquaredError()])"
      ]
    },
    {
      "cell_type": "code",
      "execution_count": 55,
      "metadata": {
        "id": "2iKTrS4BWa0e"
      },
      "outputs": [],
      "source": [
        "# model_gru.fit(X_train1,y_train1, validation_data=(X_val1,y_val1),epochs=10,callbacks=[cp3])"
      ]
    },
    {
      "cell_type": "code",
      "execution_count": 56,
      "metadata": {
        "id": "KV2XYTplWeap"
      },
      "outputs": [],
      "source": [
        "# now using multiple variables to predict the weather\n",
        "\n",
        "temp_df=pd.DataFrame({\"Temperature\": t})\n",
        "temp_df[\"Seconds\"]= temp_df.index.map(pd.Timestamp.timestamp)         #timestamps in Unix epoch format (seconds since January 1st, 1970) for each row in the index."
      ]
    },
    {
      "cell_type": "code",
      "execution_count": 57,
      "metadata": {
        "id": "RTheWbXMX1XF"
      },
      "outputs": [],
      "source": [
        "day = 60*60*24\n",
        "year = 365.2425*day\n",
        "# fills with sinusoidal values based on the timestamps in the \"Seconds\" column\n",
        "#  its period is 2π, By multiplying the timestamps in seconds by 2 * np.pi / day,\n",
        "# scales the seconds within a day to a range suitable for the sine function\n",
        "temp_df['Day Sine']=np.sin(temp_df['Seconds']*(2*np.pi/day))\n",
        "temp_df['Day cos']=np.cos(temp_df['Seconds']*(2*np.pi/day))\n",
        "temp_df['year Sine']=np.sin(temp_df['Seconds']*(2*np.pi/year))\n",
        "temp_df['year cos']=np.cos(temp_df['Seconds']*(2*np.pi/year))\n",
        "# drop second bcoz it it captured by the sine and cos values, we dont need an ever increasing value\n",
        "temp_df.drop(\"Seconds\",axis=1,inplace=True)\n"
      ]
    },
    {
      "cell_type": "code",
      "execution_count": 58,
      "metadata": {
        "id": "phcn9nFyr8m6"
      },
      "outputs": [],
      "source": [
        "def df_to_X_y2(df, window_size=6):\n",
        "  df_as_np = df.to_numpy()\n",
        "  X = []\n",
        "  y = []\n",
        "  for i in range(len(df_as_np)-window_size):\n",
        "    row = [r for r in df_as_np[i:i+window_size]]\n",
        "    X.append(row)\n",
        "    label = df_as_np[i+window_size][0]\n",
        "    y.append(label)\n",
        "  return np.array(X), np.array(y)"
      ]
    },
    {
      "cell_type": "code",
      "execution_count": 59,
      "metadata": {
        "id": "IBDSLPI3Y7us",
        "colab": {
          "base_uri": "https://localhost:8080/"
        },
        "outputId": "77ac011c-ce99-4325-cdab-8ff62c66d1a4"
      },
      "outputs": [
        {
          "output_type": "execute_result",
          "data": {
            "text/plain": [
              "((70085, 6, 5), (70085,))"
            ]
          },
          "metadata": {},
          "execution_count": 59
        }
      ],
      "source": [
        "# [[[t1,ds1,dc1,ys1,yc1], [t2,ds2,dc2,ys2,yc2], [t3,ds3,dc3,ys3,yc3], [t4,ds4,dc4,ys4,yc4], [t5,ds5,dc5,ys5,yc5]]]--------->[t6]\n",
        "X2,y2=df_to_X_y2(temp_df,window_size=6)\n",
        "X2.shape,y2.shape"
      ]
    },
    {
      "cell_type": "code",
      "execution_count": 60,
      "metadata": {
        "id": "rl2knW7Zrmw2",
        "colab": {
          "base_uri": "https://localhost:8080/"
        },
        "outputId": "0fc43e39-cc54-48c3-b5d0-29ad2e83f7bb"
      },
      "outputs": [
        {
          "output_type": "execute_result",
          "data": {
            "text/plain": [
              "((60000, 6, 5), (60000,), (5000, 6, 5), (5000,), (5085, 6, 5), (5085,))"
            ]
          },
          "metadata": {},
          "execution_count": 60
        }
      ],
      "source": [
        "X_train2, y_train2 = X2[:60000], y2[:60000]\n",
        "X_val2, y_val2 = X2[60000:65000], y2[60000:65000]\n",
        "X_test2, y_test2 = X2[65000:], y2[65000:]\n",
        "X_train2.shape, y_train2.shape, X_val2.shape, y_val2.shape, X_test2.shape, y_test2.shape"
      ]
    },
    {
      "cell_type": "code",
      "execution_count": 61,
      "metadata": {
        "id": "L7gc6Ycash5H"
      },
      "outputs": [],
      "source": [
        "temp_train_mean=np.mean(X_train2[:,:,0])     # just the temperature mean\n",
        "temp_train_std=np.std(X_train2[:,:,0])        # just the temperature std\n",
        "\n",
        "def preprocess(X):\n",
        "  X[:,:,0] = (X[:,:,0]-temp_train_mean/temp_train_std)\n",
        "  return X"
      ]
    },
    {
      "cell_type": "code",
      "execution_count": null,
      "metadata": {
        "id": "hjZ0Eg8DtqmJ"
      },
      "outputs": [],
      "source": [
        "preprocess(X_train2)\n",
        "preprocess(X_val2)\n",
        "preprocess(X_test2)"
      ]
    },
    {
      "cell_type": "code",
      "execution_count": 63,
      "metadata": {
        "id": "e19a2rkpt4Gf",
        "colab": {
          "base_uri": "https://localhost:8080/"
        },
        "outputId": "1b543edb-c714-4e88-9f15-eed71d1fe70c"
      },
      "outputs": [
        {
          "output_type": "stream",
          "name": "stdout",
          "text": [
            "Model: \"sequential_7\"\n",
            "_________________________________________________________________\n",
            " Layer (type)                Output Shape              Param #   \n",
            "=================================================================\n",
            " lstm_3 (LSTM)               (None, 64)                17920     \n",
            "                                                                 \n",
            " dense_14 (Dense)            (None, 8)                 520       \n",
            "                                                                 \n",
            " dense_15 (Dense)            (None, 1)                 9         \n",
            "                                                                 \n",
            "=================================================================\n",
            "Total params: 18449 (72.07 KB)\n",
            "Trainable params: 18449 (72.07 KB)\n",
            "Non-trainable params: 0 (0.00 Byte)\n",
            "_________________________________________________________________\n"
          ]
        }
      ],
      "source": [
        "model_lstm2 = Sequential()\n",
        "model_lstm2.add(InputLayer((6, 5)))   # 6 timesteps and 5 featues\n",
        "model_lstm2.add(LSTM(64))\n",
        "model_lstm2.add(Dense(8, 'relu'))\n",
        "model_lstm2.add(Dense(1, 'linear'))\n",
        "\n",
        "model_lstm2.summary()"
      ]
    },
    {
      "cell_type": "code",
      "execution_count": 63,
      "metadata": {
        "id": "fpZ7ZLE2xPTi"
      },
      "outputs": [],
      "source": []
    },
    {
      "cell_type": "code",
      "execution_count": 64,
      "metadata": {
        "id": "PNnMY6EbuPZx"
      },
      "outputs": [],
      "source": [
        "cp4= ModelCheckpoint('model_lstm2/', save_best_only=True)\n",
        "model_lstm2.compile(loss=MeanSquaredError(), optimizer=Adam(learning_rate=0.0001), metrics=[RootMeanSquaredError()])"
      ]
    },
    {
      "cell_type": "code",
      "execution_count": 65,
      "metadata": {
        "id": "2_KTJjtoubxe",
        "colab": {
          "base_uri": "https://localhost:8080/"
        },
        "outputId": "b4af97e7-b2af-440b-864e-b37697b87b9e"
      },
      "outputs": [
        {
          "output_type": "stream",
          "name": "stdout",
          "text": [
            "Epoch 1/15\n",
            "1875/1875 [==============================] - 17s 7ms/step - loss: 44.2518 - root_mean_squared_error: 6.6522 - val_loss: 1.3971 - val_root_mean_squared_error: 1.1820\n",
            "Epoch 2/15\n",
            "1875/1875 [==============================] - 13s 7ms/step - loss: 2.4288 - root_mean_squared_error: 1.5585 - val_loss: 0.5846 - val_root_mean_squared_error: 0.7646\n",
            "Epoch 3/15\n",
            "1875/1875 [==============================] - 14s 7ms/step - loss: 0.8783 - root_mean_squared_error: 0.9372 - val_loss: 0.4628 - val_root_mean_squared_error: 0.6803\n",
            "Epoch 4/15\n",
            "1875/1875 [==============================] - 13s 7ms/step - loss: 0.6179 - root_mean_squared_error: 0.7860 - val_loss: 0.4339 - val_root_mean_squared_error: 0.6587\n",
            "Epoch 5/15\n",
            "1875/1875 [==============================] - 14s 7ms/step - loss: 0.5542 - root_mean_squared_error: 0.7445 - val_loss: 0.4208 - val_root_mean_squared_error: 0.6487\n",
            "Epoch 6/15\n",
            "1875/1875 [==============================] - 13s 7ms/step - loss: 0.5336 - root_mean_squared_error: 0.7305 - val_loss: 0.4127 - val_root_mean_squared_error: 0.6424\n",
            "Epoch 7/15\n",
            "1875/1875 [==============================] - 15s 8ms/step - loss: 0.5230 - root_mean_squared_error: 0.7232 - val_loss: 0.4106 - val_root_mean_squared_error: 0.6408\n",
            "Epoch 8/15\n",
            "1875/1875 [==============================] - 11s 6ms/step - loss: 0.5178 - root_mean_squared_error: 0.7196 - val_loss: 0.4113 - val_root_mean_squared_error: 0.6413\n",
            "Epoch 9/15\n",
            "1875/1875 [==============================] - 14s 7ms/step - loss: 0.5128 - root_mean_squared_error: 0.7161 - val_loss: 0.4032 - val_root_mean_squared_error: 0.6350\n",
            "Epoch 10/15\n",
            "1875/1875 [==============================] - 10s 5ms/step - loss: 0.5095 - root_mean_squared_error: 0.7138 - val_loss: 0.4033 - val_root_mean_squared_error: 0.6351\n",
            "Epoch 11/15\n",
            "1875/1875 [==============================] - 13s 7ms/step - loss: 0.5076 - root_mean_squared_error: 0.7124 - val_loss: 0.4031 - val_root_mean_squared_error: 0.6349\n",
            "Epoch 12/15\n",
            "1875/1875 [==============================] - 14s 7ms/step - loss: 0.5061 - root_mean_squared_error: 0.7114 - val_loss: 0.3990 - val_root_mean_squared_error: 0.6316\n",
            "Epoch 13/15\n",
            "1875/1875 [==============================] - 14s 8ms/step - loss: 0.5030 - root_mean_squared_error: 0.7092 - val_loss: 0.3963 - val_root_mean_squared_error: 0.6295\n",
            "Epoch 14/15\n",
            "1875/1875 [==============================] - 14s 7ms/step - loss: 0.5016 - root_mean_squared_error: 0.7083 - val_loss: 0.3952 - val_root_mean_squared_error: 0.6286\n",
            "Epoch 15/15\n",
            "1875/1875 [==============================] - 10s 5ms/step - loss: 0.5000 - root_mean_squared_error: 0.7071 - val_loss: 0.3967 - val_root_mean_squared_error: 0.6299\n"
          ]
        },
        {
          "output_type": "execute_result",
          "data": {
            "text/plain": [
              "<keras.src.callbacks.History at 0x7d80d7204070>"
            ]
          },
          "metadata": {},
          "execution_count": 65
        }
      ],
      "source": [
        "model_lstm2.fit(X_train2,y_train2, validation_data=(X_val2,y_val2),epochs=15,callbacks=[cp4])"
      ]
    },
    {
      "cell_type": "code",
      "execution_count": 66,
      "metadata": {
        "id": "QOBH14rTusZW",
        "colab": {
          "base_uri": "https://localhost:8080/",
          "height": 708
        },
        "outputId": "b551e9cd-debe-4dea-e2ca-623a40d72980"
      },
      "outputs": [
        {
          "output_type": "stream",
          "name": "stdout",
          "text": [
            "159/159 [==============================] - 1s 4ms/step\n"
          ]
        },
        {
          "output_type": "execute_result",
          "data": {
            "text/plain": [
              "(      Prediction  Actual\n",
              " 0      13.226678   13.46\n",
              " 1      12.877543   12.93\n",
              " 2      12.457318   12.43\n",
              " 3      12.118033   12.17\n",
              " 4      12.230531   11.55\n",
              " ...          ...     ...\n",
              " 5080   -0.767881   -0.98\n",
              " 5081   -1.317477   -1.40\n",
              " 5082   -1.695971   -2.75\n",
              " 5083   -3.070478   -2.89\n",
              " 5084   -3.171514   -3.93\n",
              " \n",
              " [5085 rows x 2 columns],\n",
              " 0.4631518540389263)"
            ]
          },
          "metadata": {},
          "execution_count": 66
        },
        {
          "output_type": "display_data",
          "data": {
            "text/plain": [
              "<Figure size 640x480 with 1 Axes>"
            ],
            "image/png": "[encoded data removed]"
          },
          "metadata": {}
        }
      ],
      "source": [
        "plot_predictions(model_lstm2,X_test2,y_test2)"
      ]
    },
    {
      "cell_type": "code",
      "source": [
        "# now adding pressure\n",
        "\n",
        "p_temp_df = pd.concat([df['p (mbar)'],temp_df],axis=1)\n",
        "p_temp_df"
      ],
      "metadata": {
        "colab": {
          "base_uri": "https://localhost:8080/",
          "height": 455
        },
        "id": "x6BIBn4jK8H-",
        "outputId": "8242d5c4-9a68-41d4-d2ca-84440c69807e"
      },
      "execution_count": 67,
      "outputs": [
        {
          "output_type": "execute_result",
          "data": {
            "text/plain": [
              "                     p (mbar)  Temperature  Day Sine   Day cos  year Sine  \\\n",
              "Date Time                                                                   \n",
              "2009-01-01 01:00:00    996.50        -8.05  0.258819  0.965926   0.010049   \n",
              "2009-01-01 02:00:00    996.62        -8.88  0.500000  0.866025   0.010766   \n",
              "2009-01-01 03:00:00    996.84        -8.81  0.707107  0.707107   0.011483   \n",
              "2009-01-01 04:00:00    996.99        -9.05  0.866025  0.500000   0.012199   \n",
              "2009-01-01 05:00:00    997.46        -9.63  0.965926  0.258819   0.012916   \n",
              "...                       ...          ...       ...       ...        ...   \n",
              "2016-12-31 19:10:00   1002.18        -0.98 -0.953717  0.300706   0.006900   \n",
              "2016-12-31 20:10:00   1001.40        -1.40 -0.843391  0.537300   0.007617   \n",
              "2016-12-31 21:10:00   1001.19        -2.75 -0.675590  0.737277   0.008334   \n",
              "2016-12-31 22:10:00   1000.65        -2.89 -0.461749  0.887011   0.009050   \n",
              "2016-12-31 23:10:00   1000.11        -3.93 -0.216440  0.976296   0.009767   \n",
              "\n",
              "                     year cos  \n",
              "Date Time                      \n",
              "2009-01-01 01:00:00  0.999950  \n",
              "2009-01-01 02:00:00  0.999942  \n",
              "2009-01-01 03:00:00  0.999934  \n",
              "2009-01-01 04:00:00  0.999926  \n",
              "2009-01-01 05:00:00  0.999917  \n",
              "...                       ...  \n",
              "2016-12-31 19:10:00  0.999976  \n",
              "2016-12-31 20:10:00  0.999971  \n",
              "2016-12-31 21:10:00  0.999965  \n",
              "2016-12-31 22:10:00  0.999959  \n",
              "2016-12-31 23:10:00  0.999952  \n",
              "\n",
              "[70091 rows x 6 columns]"
            ],
            "text/html": [
              "\n",
              "  <div id=\"df-6fac602e-9aba-4e91-8221-88793af9c2c6\" class=\"colab-df-container\">\n",
              "    <div>\n",
              "<style scoped>\n",
              "    .dataframe tbody tr th:only-of-type {\n",
              "        vertical-align: middle;\n",
              "    }\n",
              "\n",
              "    .dataframe tbody tr th {\n",
              "        vertical-align: top;\n",
              "    }\n",
              "\n",
              "    .dataframe thead th {\n",
              "        text-align: right;\n",
              "    }\n",
              "</style>\n",
              "<table border=\"1\" class=\"dataframe\">\n",
              "  <thead>\n",
              "    <tr style=\"text-align: right;\">\n",
              "      <th></th>\n",
              "      <th>p (mbar)</th>\n",
              "      <th>Temperature</th>\n",
              "      <th>Day Sine</th>\n",
              "      <th>Day cos</th>\n",
              "      <th>year Sine</th>\n",
              "      <th>year cos</th>\n",
              "    </tr>\n",
              "    <tr>\n",
              "      <th>Date Time</th>\n",
              "      <th></th>\n",
              "      <th></th>\n",
              "      <th></th>\n",
              "      <th></th>\n",
              "      <th></th>\n",
              "      <th></th>\n",
              "    </tr>\n",
              "  </thead>\n",
              "  <tbody>\n",
              "    <tr>\n",
              "      <th>2009-01-01 01:00:00</th>\n",
              "      <td>996.50</td>\n",
              "      <td>-8.05</td>\n",
              "      <td>0.258819</td>\n",
              "      <td>0.965926</td>\n",
              "      <td>0.010049</td>\n",
              "      <td>0.999950</td>\n",
              "    </tr>\n",
              "    <tr>\n",
              "      <th>2009-01-01 02:00:00</th>\n",
              "      <td>996.62</td>\n",
              "      <td>-8.88</td>\n",
              "      <td>0.500000</td>\n",
              "      <td>0.866025</td>\n",
              "      <td>0.010766</td>\n",
              "      <td>0.999942</td>\n",
              "    </tr>\n",
              "    <tr>\n",
              "      <th>2009-01-01 03:00:00</th>\n",
              "      <td>996.84</td>\n",
              "      <td>-8.81</td>\n",
              "      <td>0.707107</td>\n",
              "      <td>0.707107</td>\n",
              "      <td>0.011483</td>\n",
              "      <td>0.999934</td>\n",
              "    </tr>\n",
              "    <tr>\n",
              "      <th>2009-01-01 04:00:00</th>\n",
              "      <td>996.99</td>\n",
              "      <td>-9.05</td>\n",
              "      <td>0.866025</td>\n",
              "      <td>0.500000</td>\n",
              "      <td>0.012199</td>\n",
              "      <td>0.999926</td>\n",
              "    </tr>\n",
              "    <tr>\n",
              "      <th>2009-01-01 05:00:00</th>\n",
              "      <td>997.46</td>\n",
              "      <td>-9.63</td>\n",
              "      <td>0.965926</td>\n",
              "      <td>0.258819</td>\n",
              "      <td>0.012916</td>\n",
              "      <td>0.999917</td>\n",
              "    </tr>\n",
              "    <tr>\n",
              "      <th>...</th>\n",
              "      <td>...</td>\n",
              "      <td>...</td>\n",
              "      <td>...</td>\n",
              "      <td>...</td>\n",
              "      <td>...</td>\n",
              "      <td>...</td>\n",
              "    </tr>\n",
              "    <tr>\n",
              "      <th>2016-12-31 19:10:00</th>\n",
              "      <td>1002.18</td>\n",
              "      <td>-0.98</td>\n",
              "      <td>-0.953717</td>\n",
              "      <td>0.300706</td>\n",
              "      <td>0.006900</td>\n",
              "      <td>0.999976</td>\n",
              "    </tr>\n",
              "    <tr>\n",
              "      <th>2016-12-31 20:10:00</th>\n",
              "      <td>1001.40</td>\n",
              "      <td>-1.40</td>\n",
              "      <td>-0.843391</td>\n",
              "      <td>0.537300</td>\n",
              "      <td>0.007617</td>\n",
              "      <td>0.999971</td>\n",
              "    </tr>\n",
              "    <tr>\n",
              "      <th>2016-12-31 21:10:00</th>\n",
              "      <td>1001.19</td>\n",
              "      <td>-2.75</td>\n",
              "      <td>-0.675590</td>\n",
              "      <td>0.737277</td>\n",
              "      <td>0.008334</td>\n",
              "      <td>0.999965</td>\n",
              "    </tr>\n",
              "    <tr>\n",
              "      <th>2016-12-31 22:10:00</th>\n",
              "      <td>1000.65</td>\n",
              "      <td>-2.89</td>\n",
              "      <td>-0.461749</td>\n",
              "      <td>0.887011</td>\n",
              "      <td>0.009050</td>\n",
              "      <td>0.999959</td>\n",
              "    </tr>\n",
              "    <tr>\n",
              "      <th>2016-12-31 23:10:00</th>\n",
              "      <td>1000.11</td>\n",
              "      <td>-3.93</td>\n",
              "      <td>-0.216440</td>\n",
              "      <td>0.976296</td>\n",
              "      <td>0.009767</td>\n",
              "      <td>0.999952</td>\n",
              "    </tr>\n",
              "  </tbody>\n",
              "</table>\n",
              "<p>70091 rows × 6 columns</p>\n",
              "</div>\n",
              "    <div class=\"colab-df-buttons\">\n",
              "\n",
              "  <div class=\"colab-df-container\">\n",
              "    <button class=\"colab-df-convert\" onclick=\"convertToInteractive('df-6fac602e-9aba-4e91-8221-88793af9c2c6')\"\n",
              "            title=\"Convert this dataframe to an interactive table.\"\n",
              "            style=\"display:none;\">\n",
              "\n",
              "  <svg xmlns=\"http://www.w3.org/2000/svg\" height=\"24px\" viewBox=\"0 -960 960 960\">\n",
              "    <path d=\"M120-120v-720h720v720H120Zm60-500h600v-160H180v160Zm220 220h160v-160H400v160Zm0 220h160v-160H400v160ZM180-400h160v-160H180v160Zm440 0h160v-160H620v160ZM180-180h160v-160H180v160Zm440 0h160v-160H620v160Z\"/>\n",
              "  </svg>\n",
              "    </button>\n",
              "\n",
              "  <style>\n",
              "    .colab-df-container {\n",
              "      display:flex;\n",
              "      gap: 12px;\n",
              "    }\n",
              "\n",
              "    .colab-df-convert {\n",
              "      background-color: #E8F0FE;\n",
              "      border: none;\n",
              "      border-radius: 50%;\n",
              "      cursor: pointer;\n",
              "      display: none;\n",
              "      fill: #1967D2;\n",
              "      height: 32px;\n",
              "      padding: 0 0 0 0;\n",
              "      width: 32px;\n",
              "    }\n",
              "\n",
              "    .colab-df-convert:hover {\n",
              "      background-color: #E2EBFA;\n",
              "      box-shadow: 0px 1px 2px rgba(60, 64, 67, 0.3), 0px 1px 3px 1px rgba(60, 64, 67, 0.15);\n",
              "      fill: #174EA6;\n",
              "    }\n",
              "\n",
              "    .colab-df-buttons div {\n",
              "      margin-bottom: 4px;\n",
              "    }\n",
              "\n",
              "    [theme=dark] .colab-df-convert {\n",
              "      background-color: #3B4455;\n",
              "      fill: #D2E3FC;\n",
              "    }\n",
              "\n",
              "    [theme=dark] .colab-df-convert:hover {\n",
              "      background-color: #434B5C;\n",
              "      box-shadow: 0px 1px 3px 1px rgba(0, 0, 0, 0.15);\n",
              "      filter: drop-shadow(0px 1px 2px rgba(0, 0, 0, 0.3));\n",
              "      fill: #FFFFFF;\n",
              "    }\n",
              "  </style>\n",
              "\n",
              "    <script>\n",
              "      const buttonEl =\n",
              "        document.querySelector('#df-6fac602e-9aba-4e91-8221-88793af9c2c6 button.colab-df-convert');\n",
              "      buttonEl.style.display =\n",
              "        google.colab.kernel.accessAllowed ? 'block' : 'none';\n",
              "\n",
              "      async function convertToInteractive(key) {\n",
              "        const element = document.querySelector('#df-6fac602e-9aba-4e91-8221-88793af9c2c6');\n",
              "        const dataTable =\n",
              "          await google.colab.kernel.invokeFunction('convertToInteractive',\n",
              "                                                    [key], {});\n",
              "        if (!dataTable) return;\n",
              "\n",
              "        const docLinkHtml = 'Like what you see? Visit the ' +\n",
              "          '<a target=\"_blank\" href=https://colab.research.google.com/notebooks/data_table.ipynb>data table notebook</a>'\n",
              "          + ' to learn more about interactive tables.';\n",
              "        element.innerHTML = '';\n",
              "        dataTable['output_type'] = 'display_data';\n",
              "        await google.colab.output.renderOutput(dataTable, element);\n",
              "        const docLink = document.createElement('div');\n",
              "        docLink.innerHTML = docLinkHtml;\n",
              "        element.appendChild(docLink);\n",
              "      }\n",
              "    </script>\n",
              "  </div>\n",
              "\n",
              "\n",
              "<div id=\"df-260b5dc0-6e71-439c-8fb8-d8b2f4173447\">\n",
              "  <button class=\"colab-df-quickchart\" onclick=\"quickchart('df-260b5dc0-6e71-439c-8fb8-d8b2f4173447')\"\n",
              "            title=\"Suggest charts\"\n",
              "            style=\"display:none;\">\n",
              "\n",
              "<svg xmlns=\"http://www.w3.org/2000/svg\" height=\"24px\"viewBox=\"0 0 24 24\"\n",
              "     width=\"24px\">\n",
              "    <g>\n",
              "        <path d=\"M19 3H5c-1.1 0-2 .9-2 2v14c0 1.1.9 2 2 2h14c1.1 0 2-.9 2-2V5c0-1.1-.9-2-2-2zM9 17H7v-7h2v7zm4 0h-2V7h2v10zm4 0h-2v-4h2v4z\"/>\n",
              "    </g>\n",
              "</svg>\n",
              "  </button>\n",
              "\n",
              "<style>\n",
              "  .colab-df-quickchart {\n",
              "      --bg-color: #E8F0FE;\n",
              "      --fill-color: #1967D2;\n",
              "      --hover-bg-color: #E2EBFA;\n",
              "      --hover-fill-color: #174EA6;\n",
              "      --disabled-fill-color: #AAA;\n",
              "      --disabled-bg-color: #DDD;\n",
              "  }\n",
              "\n",
              "  [theme=dark] .colab-df-quickchart {\n",
              "      --bg-color: #3B4455;\n",
              "      --fill-color: #D2E3FC;\n",
              "      --hover-bg-color: #434B5C;\n",
              "      --hover-fill-color: #FFFFFF;\n",
              "      --disabled-bg-color: #3B4455;\n",
              "      --disabled-fill-color: #666;\n",
              "  }\n",
              "\n",
              "  .colab-df-quickchart {\n",
              "    background-color: var(--bg-color);\n",
              "    border: none;\n",
              "    border-radius: 50%;\n",
              "    cursor: pointer;\n",
              "    display: none;\n",
              "    fill: var(--fill-color);\n",
              "    height: 32px;\n",
              "    padding: 0;\n",
              "    width: 32px;\n",
              "  }\n",
              "\n",
              "  .colab-df-quickchart:hover {\n",
              "    background-color: var(--hover-bg-color);\n",
              "    box-shadow: 0 1px 2px rgba(60, 64, 67, 0.3), 0 1px 3px 1px rgba(60, 64, 67, 0.15);\n",
              "    fill: var(--button-hover-fill-color);\n",
              "  }\n",
              "\n",
              "  .colab-df-quickchart-complete:disabled,\n",
              "  .colab-df-quickchart-complete:disabled:hover {\n",
              "    background-color: var(--disabled-bg-color);\n",
              "    fill: var(--disabled-fill-color);\n",
              "    box-shadow: none;\n",
              "  }\n",
              "\n",
              "  .colab-df-spinner {\n",
              "    border: 2px solid var(--fill-color);\n",
              "    border-color: transparent;\n",
              "    border-bottom-color: var(--fill-color);\n",
              "    animation:\n",
              "      spin 1s steps(1) infinite;\n",
              "  }\n",
              "\n",
              "  @keyframes spin {\n",
              "    0% {\n",
              "      border-color: transparent;\n",
              "      border-bottom-color: var(--fill-color);\n",
              "      border-left-color: var(--fill-color);\n",
              "    }\n",
              "    20% {\n",
              "      border-color: transparent;\n",
              "      border-left-color: var(--fill-color);\n",
              "      border-top-color: var(--fill-color);\n",
              "    }\n",
              "    30% {\n",
              "      border-color: transparent;\n",
              "      border-left-color: var(--fill-color);\n",
              "      border-top-color: var(--fill-color);\n",
              "      border-right-color: var(--fill-color);\n",
              "    }\n",
              "    40% {\n",
              "      border-color: transparent;\n",
              "      border-right-color: var(--fill-color);\n",
              "      border-top-color: var(--fill-color);\n",
              "    }\n",
              "    60% {\n",
              "      border-color: transparent;\n",
              "      border-right-color: var(--fill-color);\n",
              "    }\n",
              "    80% {\n",
              "      border-color: transparent;\n",
              "      border-right-color: var(--fill-color);\n",
              "      border-bottom-color: var(--fill-color);\n",
              "    }\n",
              "    90% {\n",
              "      border-color: transparent;\n",
              "      border-bottom-color: var(--fill-color);\n",
              "    }\n",
              "  }\n",
              "</style>\n",
              "\n",
              "  <script>\n",
              "    async function quickchart(key) {\n",
              "      const quickchartButtonEl =\n",
              "        document.querySelector('#' + key + ' button');\n",
              "      quickchartButtonEl.disabled = true;  // To prevent multiple clicks.\n",
              "      quickchartButtonEl.classList.add('colab-df-spinner');\n",
              "      try {\n",
              "        const charts = await google.colab.kernel.invokeFunction(\n",
              "            'suggestCharts', [key], {});\n",
              "      } catch (error) {\n",
              "        console.error('Error during call to suggestCharts:', error);\n",
              "      }\n",
              "      quickchartButtonEl.classList.remove('colab-df-spinner');\n",
              "      quickchartButtonEl.classList.add('colab-df-quickchart-complete');\n",
              "    }\n",
              "    (() => {\n",
              "      let quickchartButtonEl =\n",
              "        document.querySelector('#df-260b5dc0-6e71-439c-8fb8-d8b2f4173447 button');\n",
              "      quickchartButtonEl.style.display =\n",
              "        google.colab.kernel.accessAllowed ? 'block' : 'none';\n",
              "    })();\n",
              "  </script>\n",
              "</div>\n",
              "\n",
              "  <div id=\"id_4556ea6a-4a49-44c0-abdf-16b39499c20b\">\n",
              "    <style>\n",
              "      .colab-df-generate {\n",
              "        background-color: #E8F0FE;\n",
              "        border: none;\n",
              "        border-radius: 50%;\n",
              "        cursor: pointer;\n",
              "        display: none;\n",
              "        fill: #1967D2;\n",
              "        height: 32px;\n",
              "        padding: 0 0 0 0;\n",
              "        width: 32px;\n",
              "      }\n",
              "\n",
              "      .colab-df-generate:hover {\n",
              "        background-color: #E2EBFA;\n",
              "        box-shadow: 0px 1px 2px rgba(60, 64, 67, 0.3), 0px 1px 3px 1px rgba(60, 64, 67, 0.15);\n",
              "        fill: #174EA6;\n",
              "      }\n",
              "\n",
              "      [theme=dark] .colab-df-generate {\n",
              "        background-color: #3B4455;\n",
              "        fill: #D2E3FC;\n",
              "      }\n",
              "\n",
              "      [theme=dark] .colab-df-generate:hover {\n",
              "        background-color: #434B5C;\n",
              "        box-shadow: 0px 1px 3px 1px rgba(0, 0, 0, 0.15);\n",
              "        filter: drop-shadow(0px 1px 2px rgba(0, 0, 0, 0.3));\n",
              "        fill: #FFFFFF;\n",
              "      }\n",
              "    </style>\n",
              "    <button class=\"colab-df-generate\" onclick=\"generateWithVariable('p_temp_df')\"\n",
              "            title=\"Generate code using this dataframe.\"\n",
              "            style=\"display:none;\">\n",
              "\n",
              "  <svg xmlns=\"http://www.w3.org/2000/svg\" height=\"24px\"viewBox=\"0 0 24 24\"\n",
              "       width=\"24px\">\n",
              "    <path d=\"M7,19H8.4L18.45,9,17,7.55,7,17.6ZM5,21V16.75L18.45,3.32a2,2,0,0,1,2.83,0l1.4,1.43a1.91,1.91,0,0,1,.58,1.4,1.91,1.91,0,0,1-.58,1.4L9.25,21ZM18.45,9,17,7.55Zm-12,3A5.31,5.31,0,0,0,4.9,8.1,5.31,5.31,0,0,0,1,6.5,5.31,5.31,0,0,0,4.9,4.9,5.31,5.31,0,0,0,6.5,1,5.31,5.31,0,0,0,8.1,4.9,5.31,5.31,0,0,0,12,6.5,5.46,5.46,0,0,0,6.5,12Z\"/>\n",
              "  </svg>\n",
              "    </button>\n",
              "    <script>\n",
              "      (() => {\n",
              "      const buttonEl =\n",
              "        document.querySelector('#id_4556ea6a-4a49-44c0-abdf-16b39499c20b button.colab-df-generate');\n",
              "      buttonEl.style.display =\n",
              "        google.colab.kernel.accessAllowed ? 'block' : 'none';\n",
              "\n",
              "      buttonEl.onclick = () => {\n",
              "        google.colab.notebook.generateWithVariable('p_temp_df');\n",
              "      }\n",
              "      })();\n",
              "    </script>\n",
              "  </div>\n",
              "\n",
              "    </div>\n",
              "  </div>\n"
            ],
            "application/vnd.google.colaboratory.intrinsic+json": {
              "type": "dataframe",
              "variable_name": "p_temp_df",
              "summary": "{\n  \"name\": \"p_temp_df\",\n  \"rows\": 70091,\n  \"fields\": [\n    {\n      \"column\": \"Date Time\",\n      \"properties\": {\n        \"dtype\": \"date\",\n        \"min\": \"2009-01-01 01:00:00\",\n        \"max\": \"2016-12-31 23:10:00\",\n        \"num_unique_values\": 70067,\n        \"samples\": [\n          \"2013-09-02 21:30:00\",\n          \"2014-03-22 22:00:00\",\n          \"2014-04-12 09:00:00\"\n        ],\n        \"semantic_type\": \"\",\n        \"description\": \"\"\n      }\n    },\n    {\n      \"column\": \"p (mbar)\",\n      \"properties\": {\n        \"dtype\": \"number\",\n        \"std\": 8.358885998397085,\n        \"min\": 913.6,\n        \"max\": 1015.29,\n        \"num_unique_values\": 4886,\n        \"samples\": [\n          985.34,\n          966.66,\n          981.05\n        ],\n        \"semantic_type\": \"\",\n        \"description\": \"\"\n      }\n    },\n    {\n      \"column\": \"Temperature\",\n      \"properties\": {\n        \"dtype\": \"number\",\n        \"std\": 8.423383770514523,\n        \"min\": -22.76,\n        \"max\": 37.28,\n        \"num_unique_values\": 4673,\n        \"samples\": [\n          -5.49,\n          17.07,\n          32.26\n        ],\n        \"semantic_type\": \"\",\n        \"description\": \"\"\n      }\n    },\n    {\n      \"column\": \"Day Sine\",\n      \"properties\": {\n        \"dtype\": \"number\",\n        \"std\": 0.7070991809295205,\n        \"min\": -1.0,\n        \"max\": 1.0,\n        \"num_unique_values\": 67722,\n        \"samples\": [\n          0.965925826288089,\n          0.7071067811894525,\n          -0.8191520442887917\n        ],\n        \"semantic_type\": \"\",\n        \"description\": \"\"\n      }\n    },\n    {\n      \"column\": \"Day cos\",\n      \"properties\": {\n        \"dtype\": \"number\",\n        \"std\": 0.7071244526871121,\n        \"min\": -1.0,\n        \"max\": 1.0,\n        \"num_unique_values\": 67723,\n        \"samples\": [\n          0.2588190451061757,\n          -0.7071067811935242,\n          0.34202014331728176\n        ],\n        \"semantic_type\": \"\",\n        \"description\": \"\"\n      }\n    },\n    {\n      \"column\": \"year Sine\",\n      \"properties\": {\n        \"dtype\": \"number\",\n        \"std\": 0.7068128634956122,\n        \"min\": -0.9999999981439807,\n        \"max\": 0.9999999984237037,\n        \"num_unique_values\": 70067,\n        \"samples\": [\n          -0.8824966007843661,\n          0.9850507382513526,\n          0.9840556649690156\n        ],\n        \"semantic_type\": \"\",\n        \"description\": \"\"\n      }\n    },\n    {\n      \"column\": \"year cos\",\n      \"properties\": {\n        \"dtype\": \"number\",\n        \"std\": 0.7074084994635912,\n        \"min\": -0.9999999999743111,\n        \"max\": 0.9999999986185107,\n        \"num_unique_values\": 70067,\n        \"samples\": [\n          -0.4703187744541347,\n          0.1722644567821962,\n          -0.17786075520583086\n        ],\n        \"semantic_type\": \"\",\n        \"description\": \"\"\n      }\n    }\n  ]\n}"
            }
          },
          "metadata": {},
          "execution_count": 67
        }
      ]
    },
    {
      "cell_type": "code",
      "source": [
        "def df_to_X_y3(df, window_size=7):\n",
        "  df_as_np = df.to_numpy()\n",
        "  X = []\n",
        "  y = []\n",
        "  for i in range(len(df_as_np)-window_size):\n",
        "    row = [r for r in df_as_np[i:i+window_size]]\n",
        "    X.append(row)\n",
        "    label = [df_as_np[i+window_size][0],df_as_np[i+window_size][1]]\n",
        "    y.append(label)\n",
        "  return np.array(X), np.array(y)"
      ],
      "metadata": {
        "id": "ycXmnmEfLdRv"
      },
      "execution_count": 71,
      "outputs": []
    },
    {
      "cell_type": "code",
      "source": [
        "X3,y3=df_to_X_y3(p_temp_df)\n",
        "X3.shape,y3.shape"
      ],
      "metadata": {
        "colab": {
          "base_uri": "https://localhost:8080/"
        },
        "id": "WaAG8qARLy-q",
        "outputId": "968b4382-1857-4a91-8ca2-9478950af4eb"
      },
      "execution_count": 73,
      "outputs": [
        {
          "output_type": "execute_result",
          "data": {
            "text/plain": [
              "((70084, 7, 6), (70084, 2))"
            ]
          },
          "metadata": {},
          "execution_count": 73
        }
      ]
    },
    {
      "cell_type": "code",
      "source": [
        "X_train3, y_train3 = X3[:60000], y3[:60000]\n",
        "X_val3, y_val3 = X3[60000:65000], y3[60000:65000]\n",
        "X_test3, y_test3 = X3[65000:], y3[65000:]\n",
        "X_train3.shape, y_train3.shape, X_val3.shape, y_val3.shape, X_test3.shape, y_test3.shape"
      ],
      "metadata": {
        "colab": {
          "base_uri": "https://localhost:8080/"
        },
        "id": "9mhepu0_L7Gt",
        "outputId": "c85ee7c4-d8fb-46b5-cb91-c300bf2e321e"
      },
      "execution_count": 74,
      "outputs": [
        {
          "output_type": "execute_result",
          "data": {
            "text/plain": [
              "((60000, 7, 6), (60000, 2), (5000, 7, 6), (5000, 2), (5084, 7, 6), (5084, 2))"
            ]
          },
          "metadata": {},
          "execution_count": 74
        }
      ]
    },
    {
      "cell_type": "code",
      "source": [
        "temp_train_mean=np.mean(X_train3[:,:,1])     # just the temperature mean\n",
        "temp_train_std=np.std(X_train3[:,:,1])        # just the temperature std\n",
        "p_train_mean=np.mean(X_train3[:,:,0])     # just the pressure mean\n",
        "p_train_std=np.std(X_train3[:,:,0])\n",
        "def preprocess3(X):\n",
        "  X[:,:,0] = (X[:,:,0]-p_train_mean)/p_train_std\n",
        "  X[:,:,1] = (X[:,:,1]-temp_train_mean)/temp_train_std\n",
        "  return X\n",
        "def preprocess_output3(y):\n",
        "  y[:,0] = (y[:,0]-p_train_mean)/p_train_std\n",
        "  y[:,1] = (y[:,1]-temp_train_mean)/temp_train_std\n",
        "  return y\n",
        "preprocess3(X_train3)\n",
        "preprocess3(X_val3)\n",
        "preprocess3(X_test3)\n",
        "\n"
      ],
      "metadata": {
        "colab": {
          "base_uri": "https://localhost:8080/"
        },
        "id": "-mTC3CKKMiju",
        "outputId": "62117cd3-8373-4dd7-eaab-4bdb39e64574"
      },
      "execution_count": 97,
      "outputs": [
        {
          "output_type": "execute_result",
          "data": {
            "text/plain": [
              "array([[[-2.61059418e+00, -2.19342604e+00, -1.20891907e+02,\n",
              "         -1.19667162e+02, -1.19403104e+02, -1.20778389e+02],\n",
              "        [ 1.84283690e-01,  5.75619778e-01, -1.97331730e+00,\n",
              "         -6.07291893e-01, -5.85025130e-01, -1.96007406e+00],\n",
              "        [ 2.21217224e-01,  5.73451570e-01, -7.07106781e-01,\n",
              "          7.07106781e-01,  5.21655371e-01, -8.53156301e-01],\n",
              "        ...,\n",
              "        [ 2.34798381e-01,  5.36967116e-01, -2.58819045e-01,\n",
              "          9.65925826e-01,  5.20431780e-01, -8.53903251e-01],\n",
              "        [ 2.44633013e-01,  5.11240899e-01, -7.16474371e-12,\n",
              "          1.00000000e+00,  5.19819584e-01, -8.54276068e-01],\n",
              "        [ 2.50018644e-01,  4.98845540e-01,  2.58819045e-01,\n",
              "          9.65925826e-01,  5.19207120e-01, -8.54648446e-01]],\n",
              "\n",
              "       [[-2.59794966e+00, -2.20324878e+00, -1.20792007e+02,\n",
              "         -1.19425981e+02, -1.19403715e+02, -1.20778764e+02],\n",
              "        [ 1.95289111e-01,  5.47554814e-01, -1.81439867e+00,\n",
              "         -4.00185112e-01, -5.85636523e-01, -1.96044819e+00],\n",
              "        [ 2.28241960e-01,  5.54741594e-01, -5.00000000e-01,\n",
              "          8.66025404e-01,  5.21043709e-01, -8.53529995e-01],\n",
              "        ...,\n",
              "        [ 2.44633013e-01,  5.11240899e-01, -7.16474371e-12,\n",
              "          1.00000000e+00,  5.19819584e-01, -8.54276068e-01],\n",
              "        [ 2.50018644e-01,  4.98845540e-01,  2.58819045e-01,\n",
              "          9.65925826e-01,  5.19207120e-01, -8.54648446e-01],\n",
              "        [ 2.51657749e-01,  4.86450181e-01,  5.00000000e-01,\n",
              "          8.66025404e-01,  5.18594390e-01, -8.55020385e-01]],\n",
              "\n",
              "       [[-2.58694424e+00, -2.23131374e+00, -1.20633088e+02,\n",
              "         -1.19218875e+02, -1.19404326e+02, -1.20779138e+02],\n",
              "        [ 2.02313847e-01,  5.28844838e-01, -1.60729189e+00,\n",
              "         -2.41266490e-01, -5.86248184e-01, -1.96082189e+00],\n",
              "        [ 2.34798381e-01,  5.36967116e-01, -2.58819045e-01,\n",
              "          9.65925826e-01,  5.20431780e-01, -8.53903251e-01],\n",
              "        ...,\n",
              "        [ 2.50018644e-01,  4.98845540e-01,  2.58819045e-01,\n",
              "          9.65925826e-01,  5.19207120e-01, -8.54648446e-01],\n",
              "        [ 2.51657749e-01,  4.86450181e-01,  5.00000000e-01,\n",
              "          8.66025404e-01,  5.18594390e-01, -8.55020385e-01],\n",
              "        [ 2.57511697e-01,  4.74756446e-01,  7.07106781e-01,\n",
              "          7.07106781e-01,  5.17981393e-01, -8.55391885e-01]],\n",
              "\n",
              "       ...,\n",
              "\n",
              "       [[-2.06898699e+00, -2.52365712e+00, -1.20463281e+02,\n",
              "         -1.20769373e+02, -1.19922665e+02, -1.18925987e+02],\n",
              "        [ 7.09499834e-01,  2.74389162e-01, -1.84456923e+00,\n",
              "         -1.78288210e+00, -1.10325881e+00, -1.07300026e-01],\n",
              "        [ 7.22549264e-01,  2.41115619e-01, -8.87010833e-01,\n",
              "         -4.61748613e-01,  4.74986003e-03,  9.99988719e-01],\n",
              "        ...,\n",
              "        [ 7.16227001e-01,  1.74227454e-01, -9.99048222e-01,\n",
              "          4.36193874e-02,  6.18340325e-03,  9.99980883e-01],\n",
              "        [ 7.14119580e-01,  1.61130471e-01, -9.53716951e-01,\n",
              "          3.00705799e-01,  6.90017027e-03,  9.99976194e-01],\n",
              "        [ 6.95855264e-01,  1.51307733e-01, -8.43391446e-01,\n",
              "          5.37299608e-01,  7.61693375e-03,  9.99970991e-01]],\n",
              "\n",
              "       [[-2.07273351e+00, -2.50447939e+00, -1.20663259e+02,\n",
              "         -1.20601572e+02, -1.19921948e+02, -1.18925990e+02],\n",
              "        [ 6.96621150e-01,  2.15218863e-01, -1.99430273e+00,\n",
              "         -1.56904051e+00, -1.10254203e+00, -1.07303174e-01],\n",
              "        [ 7.19973527e-01,  2.14220028e-01, -9.76296007e-01,\n",
              "         -2.16439614e-01,  5.46663304e-03,  9.99985058e-01],\n",
              "        ...,\n",
              "        [ 7.14119580e-01,  1.61130471e-01, -9.53716951e-01,\n",
              "          3.00705799e-01,  6.90017027e-03,  9.99976194e-01],\n",
              "        [ 6.95855264e-01,  1.51307733e-01, -8.43391446e-01,\n",
              "          5.37299608e-01,  7.61693375e-03,  9.99970991e-01],\n",
              "        [ 6.90937949e-01,  1.19734649e-01, -6.75590208e-01,\n",
              "          7.37277337e-01,  8.33369332e-03,  9.99965274e-01]],\n",
              "\n",
              "       [[-2.08561220e+00, -2.56364969e+00, -1.20812992e+02,\n",
              "         -1.20387730e+02, -1.19921232e+02, -1.18925993e+02],\n",
              "        [ 6.94045414e-01,  1.88323272e-01, -2.08358790e+00,\n",
              "         -1.32373151e+00, -1.10182526e+00, -1.07306836e-01],\n",
              "        [ 7.16227001e-01,  1.74227454e-01, -9.99048222e-01,\n",
              "          4.36193874e-02,  6.18340325e-03,  9.99980883e-01],\n",
              "        ...,\n",
              "        [ 6.95855264e-01,  1.51307733e-01, -8.43391446e-01,\n",
              "          5.37299608e-01,  7.61693375e-03,  9.99970991e-01],\n",
              "        [ 6.90937949e-01,  1.19734649e-01, -6.75590208e-01,\n",
              "          7.37277337e-01,  8.33369332e-03,  9.99965274e-01],\n",
              "        [ 6.78293423e-01,  1.16460403e-01, -4.61748613e-01,\n",
              "          8.87010833e-01,  9.05044860e-03,  9.99959044e-01]]])"
            ]
          },
          "metadata": {},
          "execution_count": 97
        }
      ]
    },
    {
      "cell_type": "code",
      "source": [
        "preprocess_output3(y_train3)\n",
        "preprocess_output3(y_val3)\n",
        "preprocess_output3(y_test3)"
      ],
      "metadata": {
        "colab": {
          "base_uri": "https://localhost:8080/"
        },
        "id": "tctPAv_yOIgU",
        "outputId": "5836c2d1-ceca-4c44-b175-c24488a60873"
      },
      "execution_count": 98,
      "outputs": [
        {
          "output_type": "execute_result",
          "data": {
            "text/plain": [
              "array([[3.98291857, 0.50264152],\n",
              "       [3.98877252, 0.49094778],\n",
              "       [3.99673389, 0.48486704],\n",
              "       ...,\n",
              "       [4.42219877, 0.13592598],\n",
              "       [4.40955425, 0.13265174],\n",
              "       [4.39690972, 0.10832877]])"
            ]
          },
          "metadata": {},
          "execution_count": 98
        }
      ]
    },
    {
      "cell_type": "code",
      "source": [
        "model_lstm3 = Sequential()\n",
        "model_lstm3.add(InputLayer((7, 6)))   # 7 timesteps and 6 featues\n",
        "model_lstm3.add(LSTM(64))\n",
        "model_lstm3.add(Dense(8, 'relu'))\n",
        "model_lstm3.add(Dense(2, 'linear'))\n",
        "\n",
        "model_lstm3.summary()"
      ],
      "metadata": {
        "colab": {
          "base_uri": "https://localhost:8080/"
        },
        "id": "kEcp-cgkOVmg",
        "outputId": "8e08d7c3-ee32-4e1f-df72-3fca42cc093f"
      },
      "execution_count": 99,
      "outputs": [
        {
          "output_type": "stream",
          "name": "stdout",
          "text": [
            "Model: \"sequential_11\"\n",
            "_________________________________________________________________\n",
            " Layer (type)                Output Shape              Param #   \n",
            "=================================================================\n",
            " lstm_7 (LSTM)               (None, 64)                18176     \n",
            "                                                                 \n",
            " dense_22 (Dense)            (None, 8)                 520       \n",
            "                                                                 \n",
            " dense_23 (Dense)            (None, 2)                 18        \n",
            "                                                                 \n",
            "=================================================================\n",
            "Total params: 18714 (73.10 KB)\n",
            "Trainable params: 18714 (73.10 KB)\n",
            "Non-trainable params: 0 (0.00 Byte)\n",
            "_________________________________________________________________\n"
          ]
        }
      ]
    },
    {
      "cell_type": "code",
      "source": [
        "cp5= ModelCheckpoint('model_lstm3/', save_best_only=True)\n",
        "model_lstm3.compile(loss=MeanSquaredError(), optimizer=Adam(learning_rate=0.0001), metrics=[RootMeanSquaredError()])"
      ],
      "metadata": {
        "id": "O3RIKnx1O7hr"
      },
      "execution_count": 100,
      "outputs": []
    },
    {
      "cell_type": "code",
      "source": [
        "model_lstm3.fit(X_train3,y_train3, validation_data=(X_val3,y_val3),epochs=15,callbacks=[cp5])"
      ],
      "metadata": {
        "colab": {
          "base_uri": "https://localhost:8080/"
        },
        "id": "_RxrS3xKPE08",
        "outputId": "c7520829-1b99-4612-bdca-3f72990c00c0"
      },
      "execution_count": 101,
      "outputs": [
        {
          "output_type": "stream",
          "name": "stdout",
          "text": [
            "Epoch 1/15\n",
            "1875/1875 [==============================] - 19s 9ms/step - loss: 1.4581 - root_mean_squared_error: 1.2075 - val_loss: 0.2641 - val_root_mean_squared_error: 0.5139\n",
            "Epoch 2/15\n",
            "1875/1875 [==============================] - 15s 8ms/step - loss: 0.1241 - root_mean_squared_error: 0.3523 - val_loss: 0.0142 - val_root_mean_squared_error: 0.1192\n",
            "Epoch 3/15\n",
            "1875/1875 [==============================] - 16s 8ms/step - loss: 0.0184 - root_mean_squared_error: 0.1357 - val_loss: 0.0062 - val_root_mean_squared_error: 0.0790\n",
            "Epoch 4/15\n",
            "1875/1875 [==============================] - 14s 8ms/step - loss: 0.0048 - root_mean_squared_error: 0.0695 - val_loss: 0.0015 - val_root_mean_squared_error: 0.0390\n",
            "Epoch 5/15\n",
            "1875/1875 [==============================] - 16s 8ms/step - loss: 0.0018 - root_mean_squared_error: 0.0427 - val_loss: 0.0012 - val_root_mean_squared_error: 0.0353\n",
            "Epoch 6/15\n",
            "1875/1875 [==============================] - 15s 8ms/step - loss: 0.0013 - root_mean_squared_error: 0.0366 - val_loss: 0.0011 - val_root_mean_squared_error: 0.0325\n",
            "Epoch 7/15\n",
            "1875/1875 [==============================] - 14s 7ms/step - loss: 0.0011 - root_mean_squared_error: 0.0331 - val_loss: 9.0266e-04 - val_root_mean_squared_error: 0.0300\n",
            "Epoch 8/15\n",
            "1875/1875 [==============================] - 14s 8ms/step - loss: 9.2737e-04 - root_mean_squared_error: 0.0305 - val_loss: 7.5161e-04 - val_root_mean_squared_error: 0.0274\n",
            "Epoch 9/15\n",
            "1875/1875 [==============================] - 15s 8ms/step - loss: 7.8485e-04 - root_mean_squared_error: 0.0280 - val_loss: 6.2781e-04 - val_root_mean_squared_error: 0.0251\n",
            "Epoch 10/15\n",
            "1875/1875 [==============================] - 16s 9ms/step - loss: 6.6139e-04 - root_mean_squared_error: 0.0257 - val_loss: 4.9651e-04 - val_root_mean_squared_error: 0.0223\n",
            "Epoch 11/15\n",
            "1875/1875 [==============================] - 15s 8ms/step - loss: 5.5550e-04 - root_mean_squared_error: 0.0236 - val_loss: 4.0174e-04 - val_root_mean_squared_error: 0.0200\n",
            "Epoch 12/15\n",
            "1875/1875 [==============================] - 15s 8ms/step - loss: 4.6822e-04 - root_mean_squared_error: 0.0216 - val_loss: 3.4717e-04 - val_root_mean_squared_error: 0.0186\n",
            "Epoch 13/15\n",
            "1875/1875 [==============================] - 15s 8ms/step - loss: 4.1246e-04 - root_mean_squared_error: 0.0203 - val_loss: 3.0996e-04 - val_root_mean_squared_error: 0.0176\n",
            "Epoch 14/15\n",
            "1875/1875 [==============================] - 15s 8ms/step - loss: 3.7449e-04 - root_mean_squared_error: 0.0194 - val_loss: 2.7944e-04 - val_root_mean_squared_error: 0.0167\n",
            "Epoch 15/15\n",
            "1875/1875 [==============================] - 11s 6ms/step - loss: 3.5274e-04 - root_mean_squared_error: 0.0188 - val_loss: 3.3447e-04 - val_root_mean_squared_error: 0.0183\n"
          ]
        },
        {
          "output_type": "execute_result",
          "data": {
            "text/plain": [
              "<keras.src.callbacks.History at 0x7d80dfb92590>"
            ]
          },
          "metadata": {},
          "execution_count": 101
        }
      ]
    },
    {
      "cell_type": "code",
      "source": [
        "\n",
        "def plot_predictions2(model,X,y,start=0,end=100):\n",
        "  pred=model.predict(X)\n",
        "  p_pred,t_pred=pred[:,0],pred[:,1]\n",
        "  p_actual,t_actual=y[:,0],y[:,1]\n",
        "  df = pd.DataFrame(data={'predicted_temp':t_pred,\n",
        "                          'actual_temp':t_actual,\n",
        "                          'predicted_pressure':p_pred,\n",
        "                          'actual_pressure':p_actual})\n",
        "  plt.plot(df['predicted_temp'][start:end])\n",
        "  plt.plot(df['actual_temp'][start:end])\n",
        "  plt.plot(df['predicted_pressure'][start:end])\n",
        "  plt.plot(df['actual_pressure'][start:end])\n",
        "  return df[start:end]"
      ],
      "metadata": {
        "id": "xH9nkKwPPQpb"
      },
      "execution_count": 102,
      "outputs": []
    },
    {
      "cell_type": "code",
      "source": [
        "plot_predictions2(model_lstm3,X_test3,y_test3)"
      ],
      "metadata": {
        "colab": {
          "base_uri": "https://localhost:8080/",
          "height": 854
        },
        "id": "MJJLaF67RLGb",
        "outputId": "8cd7cf6e-77bf-4247-fb9f-efa5cd9308be"
      },
      "execution_count": 103,
      "outputs": [
        {
          "output_type": "stream",
          "name": "stdout",
          "text": [
            "159/159 [==============================] - 1s 3ms/step\n"
          ]
        },
        {
          "output_type": "execute_result",
          "data": {
            "text/plain": [
              "    predicted_temp  actual_temp  predicted_pressure  actual_pressure\n",
              "0         0.485911     0.502642            3.975049         3.982919\n",
              "1         0.475239     0.490948            3.976891         3.988773\n",
              "2         0.469424     0.484867            3.982809         3.996734\n",
              "3         0.472293     0.470367            3.992289         4.010081\n",
              "4         0.478046     0.471302            4.009666         4.010081\n",
              "..             ...          ...                 ...              ...\n",
              "95        0.535665     0.563215            4.049439         4.055742\n",
              "96        0.528788     0.557368            4.048370         4.059020\n",
              "97        0.524700     0.552691            4.048803         4.059020\n",
              "98        0.525896     0.548247            4.050266         4.058786\n",
              "99        0.533334     0.550586            4.053354         4.064874\n",
              "\n",
              "[100 rows x 4 columns]"
            ],
            "text/html": [
              "\n",
              "  <div id=\"df-8530b700-2792-4bfd-92ca-b7a11dffc117\" class=\"colab-df-container\">\n",
              "    <div>\n",
              "<style scoped>\n",
              "    .dataframe tbody tr th:only-of-type {\n",
              "        vertical-align: middle;\n",
              "    }\n",
              "\n",
              "    .dataframe tbody tr th {\n",
              "        vertical-align: top;\n",
              "    }\n",
              "\n",
              "    .dataframe thead th {\n",
              "        text-align: right;\n",
              "    }\n",
              "</style>\n",
              "<table border=\"1\" class=\"dataframe\">\n",
              "  <thead>\n",
              "    <tr style=\"text-align: right;\">\n",
              "      <th></th>\n",
              "      <th>predicted_temp</th>\n",
              "      <th>actual_temp</th>\n",
              "      <th>predicted_pressure</th>\n",
              "      <th>actual_pressure</th>\n",
              "    </tr>\n",
              "  </thead>\n",
              "  <tbody>\n",
              "    <tr>\n",
              "      <th>0</th>\n",
              "      <td>0.485911</td>\n",
              "      <td>0.502642</td>\n",
              "      <td>3.975049</td>\n",
              "      <td>3.982919</td>\n",
              "    </tr>\n",
              "    <tr>\n",
              "      <th>1</th>\n",
              "      <td>0.475239</td>\n",
              "      <td>0.490948</td>\n",
              "      <td>3.976891</td>\n",
              "      <td>3.988773</td>\n",
              "    </tr>\n",
              "    <tr>\n",
              "      <th>2</th>\n",
              "      <td>0.469424</td>\n",
              "      <td>0.484867</td>\n",
              "      <td>3.982809</td>\n",
              "      <td>3.996734</td>\n",
              "    </tr>\n",
              "    <tr>\n",
              "      <th>3</th>\n",
              "      <td>0.472293</td>\n",
              "      <td>0.470367</td>\n",
              "      <td>3.992289</td>\n",
              "      <td>4.010081</td>\n",
              "    </tr>\n",
              "    <tr>\n",
              "      <th>4</th>\n",
              "      <td>0.478046</td>\n",
              "      <td>0.471302</td>\n",
              "      <td>4.009666</td>\n",
              "      <td>4.010081</td>\n",
              "    </tr>\n",
              "    <tr>\n",
              "      <th>...</th>\n",
              "      <td>...</td>\n",
              "      <td>...</td>\n",
              "      <td>...</td>\n",
              "      <td>...</td>\n",
              "    </tr>\n",
              "    <tr>\n",
              "      <th>95</th>\n",
              "      <td>0.535665</td>\n",
              "      <td>0.563215</td>\n",
              "      <td>4.049439</td>\n",
              "      <td>4.055742</td>\n",
              "    </tr>\n",
              "    <tr>\n",
              "      <th>96</th>\n",
              "      <td>0.528788</td>\n",
              "      <td>0.557368</td>\n",
              "      <td>4.048370</td>\n",
              "      <td>4.059020</td>\n",
              "    </tr>\n",
              "    <tr>\n",
              "      <th>97</th>\n",
              "      <td>0.524700</td>\n",
              "      <td>0.552691</td>\n",
              "      <td>4.048803</td>\n",
              "      <td>4.059020</td>\n",
              "    </tr>\n",
              "    <tr>\n",
              "      <th>98</th>\n",
              "      <td>0.525896</td>\n",
              "      <td>0.548247</td>\n",
              "      <td>4.050266</td>\n",
              "      <td>4.058786</td>\n",
              "    </tr>\n",
              "    <tr>\n",
              "      <th>99</th>\n",
              "      <td>0.533334</td>\n",
              "      <td>0.550586</td>\n",
              "      <td>4.053354</td>\n",
              "      <td>4.064874</td>\n",
              "    </tr>\n",
              "  </tbody>\n",
              "</table>\n",
              "<p>100 rows × 4 columns</p>\n",
              "</div>\n",
              "    <div class=\"colab-df-buttons\">\n",
              "\n",
              "  <div class=\"colab-df-container\">\n",
              "    <button class=\"colab-df-convert\" onclick=\"convertToInteractive('df-8530b700-2792-4bfd-92ca-b7a11dffc117')\"\n",
              "            title=\"Convert this dataframe to an interactive table.\"\n",
              "            style=\"display:none;\">\n",
              "\n",
              "  <svg xmlns=\"http://www.w3.org/2000/svg\" height=\"24px\" viewBox=\"0 -960 960 960\">\n",
              "    <path d=\"M120-120v-720h720v720H120Zm60-500h600v-160H180v160Zm220 220h160v-160H400v160Zm0 220h160v-160H400v160ZM180-400h160v-160H180v160Zm440 0h160v-160H620v160ZM180-180h160v-160H180v160Zm440 0h160v-160H620v160Z\"/>\n",
              "  </svg>\n",
              "    </button>\n",
              "\n",
              "  <style>\n",
              "    .colab-df-container {\n",
              "      display:flex;\n",
              "      gap: 12px;\n",
              "    }\n",
              "\n",
              "    .colab-df-convert {\n",
              "      background-color: #E8F0FE;\n",
              "      border: none;\n",
              "      border-radius: 50%;\n",
              "      cursor: pointer;\n",
              "      display: none;\n",
              "      fill: #1967D2;\n",
              "      height: 32px;\n",
              "      padding: 0 0 0 0;\n",
              "      width: 32px;\n",
              "    }\n",
              "\n",
              "    .colab-df-convert:hover {\n",
              "      background-color: #E2EBFA;\n",
              "      box-shadow: 0px 1px 2px rgba(60, 64, 67, 0.3), 0px 1px 3px 1px rgba(60, 64, 67, 0.15);\n",
              "      fill: #174EA6;\n",
              "    }\n",
              "\n",
              "    .colab-df-buttons div {\n",
              "      margin-bottom: 4px;\n",
              "    }\n",
              "\n",
              "    [theme=dark] .colab-df-convert {\n",
              "      background-color: #3B4455;\n",
              "      fill: #D2E3FC;\n",
              "    }\n",
              "\n",
              "    [theme=dark] .colab-df-convert:hover {\n",
              "      background-color: #434B5C;\n",
              "      box-shadow: 0px 1px 3px 1px rgba(0, 0, 0, 0.15);\n",
              "      filter: drop-shadow(0px 1px 2px rgba(0, 0, 0, 0.3));\n",
              "      fill: #FFFFFF;\n",
              "    }\n",
              "  </style>\n",
              "\n",
              "    <script>\n",
              "      const buttonEl =\n",
              "        document.querySelector('#df-8530b700-2792-4bfd-92ca-b7a11dffc117 button.colab-df-convert');\n",
              "      buttonEl.style.display =\n",
              "        google.colab.kernel.accessAllowed ? 'block' : 'none';\n",
              "\n",
              "      async function convertToInteractive(key) {\n",
              "        const element = document.querySelector('#df-8530b700-2792-4bfd-92ca-b7a11dffc117');\n",
              "        const dataTable =\n",
              "          await google.colab.kernel.invokeFunction('convertToInteractive',\n",
              "                                                    [key], {});\n",
              "        if (!dataTable) return;\n",
              "\n",
              "        const docLinkHtml = 'Like what you see? Visit the ' +\n",
              "          '<a target=\"_blank\" href=https://colab.research.google.com/notebooks/data_table.ipynb>data table notebook</a>'\n",
              "          + ' to learn more about interactive tables.';\n",
              "        element.innerHTML = '';\n",
              "        dataTable['output_type'] = 'display_data';\n",
              "        await google.colab.output.renderOutput(dataTable, element);\n",
              "        const docLink = document.createElement('div');\n",
              "        docLink.innerHTML = docLinkHtml;\n",
              "        element.appendChild(docLink);\n",
              "      }\n",
              "    </script>\n",
              "  </div>\n",
              "\n",
              "\n",
              "<div id=\"df-3f974550-d29b-48f2-82bd-af397a4b1b32\">\n",
              "  <button class=\"colab-df-quickchart\" onclick=\"quickchart('df-3f974550-d29b-48f2-82bd-af397a4b1b32')\"\n",
              "            title=\"Suggest charts\"\n",
              "            style=\"display:none;\">\n",
              "\n",
              "<svg xmlns=\"http://www.w3.org/2000/svg\" height=\"24px\"viewBox=\"0 0 24 24\"\n",
              "     width=\"24px\">\n",
              "    <g>\n",
              "        <path d=\"M19 3H5c-1.1 0-2 .9-2 2v14c0 1.1.9 2 2 2h14c1.1 0 2-.9 2-2V5c0-1.1-.9-2-2-2zM9 17H7v-7h2v7zm4 0h-2V7h2v10zm4 0h-2v-4h2v4z\"/>\n",
              "    </g>\n",
              "</svg>\n",
              "  </button>\n",
              "\n",
              "<style>\n",
              "  .colab-df-quickchart {\n",
              "      --bg-color: #E8F0FE;\n",
              "      --fill-color: #1967D2;\n",
              "      --hover-bg-color: #E2EBFA;\n",
              "      --hover-fill-color: #174EA6;\n",
              "      --disabled-fill-color: #AAA;\n",
              "      --disabled-bg-color: #DDD;\n",
              "  }\n",
              "\n",
              "  [theme=dark] .colab-df-quickchart {\n",
              "      --bg-color: #3B4455;\n",
              "      --fill-color: #D2E3FC;\n",
              "      --hover-bg-color: #434B5C;\n",
              "      --hover-fill-color: #FFFFFF;\n",
              "      --disabled-bg-color: #3B4455;\n",
              "      --disabled-fill-color: #666;\n",
              "  }\n",
              "\n",
              "  .colab-df-quickchart {\n",
              "    background-color: var(--bg-color);\n",
              "    border: none;\n",
              "    border-radius: 50%;\n",
              "    cursor: pointer;\n",
              "    display: none;\n",
              "    fill: var(--fill-color);\n",
              "    height: 32px;\n",
              "    padding: 0;\n",
              "    width: 32px;\n",
              "  }\n",
              "\n",
              "  .colab-df-quickchart:hover {\n",
              "    background-color: var(--hover-bg-color);\n",
              "    box-shadow: 0 1px 2px rgba(60, 64, 67, 0.3), 0 1px 3px 1px rgba(60, 64, 67, 0.15);\n",
              "    fill: var(--button-hover-fill-color);\n",
              "  }\n",
              "\n",
              "  .colab-df-quickchart-complete:disabled,\n",
              "  .colab-df-quickchart-complete:disabled:hover {\n",
              "    background-color: var(--disabled-bg-color);\n",
              "    fill: var(--disabled-fill-color);\n",
              "    box-shadow: none;\n",
              "  }\n",
              "\n",
              "  .colab-df-spinner {\n",
              "    border: 2px solid var(--fill-color);\n",
              "    border-color: transparent;\n",
              "    border-bottom-color: var(--fill-color);\n",
              "    animation:\n",
              "      spin 1s steps(1) infinite;\n",
              "  }\n",
              "\n",
              "  @keyframes spin {\n",
              "    0% {\n",
              "      border-color: transparent;\n",
              "      border-bottom-color: var(--fill-color);\n",
              "      border-left-color: var(--fill-color);\n",
              "    }\n",
              "    20% {\n",
              "      border-color: transparent;\n",
              "      border-left-color: var(--fill-color);\n",
              "      border-top-color: var(--fill-color);\n",
              "    }\n",
              "    30% {\n",
              "      border-color: transparent;\n",
              "      border-left-color: var(--fill-color);\n",
              "      border-top-color: var(--fill-color);\n",
              "      border-right-color: var(--fill-color);\n",
              "    }\n",
              "    40% {\n",
              "      border-color: transparent;\n",
              "      border-right-color: var(--fill-color);\n",
              "      border-top-color: var(--fill-color);\n",
              "    }\n",
              "    60% {\n",
              "      border-color: transparent;\n",
              "      border-right-color: var(--fill-color);\n",
              "    }\n",
              "    80% {\n",
              "      border-color: transparent;\n",
              "      border-right-color: var(--fill-color);\n",
              "      border-bottom-color: var(--fill-color);\n",
              "    }\n",
              "    90% {\n",
              "      border-color: transparent;\n",
              "      border-bottom-color: var(--fill-color);\n",
              "    }\n",
              "  }\n",
              "</style>\n",
              "\n",
              "  <script>\n",
              "    async function quickchart(key) {\n",
              "      const quickchartButtonEl =\n",
              "        document.querySelector('#' + key + ' button');\n",
              "      quickchartButtonEl.disabled = true;  // To prevent multiple clicks.\n",
              "      quickchartButtonEl.classList.add('colab-df-spinner');\n",
              "      try {\n",
              "        const charts = await google.colab.kernel.invokeFunction(\n",
              "            'suggestCharts', [key], {});\n",
              "      } catch (error) {\n",
              "        console.error('Error during call to suggestCharts:', error);\n",
              "      }\n",
              "      quickchartButtonEl.classList.remove('colab-df-spinner');\n",
              "      quickchartButtonEl.classList.add('colab-df-quickchart-complete');\n",
              "    }\n",
              "    (() => {\n",
              "      let quickchartButtonEl =\n",
              "        document.querySelector('#df-3f974550-d29b-48f2-82bd-af397a4b1b32 button');\n",
              "      quickchartButtonEl.style.display =\n",
              "        google.colab.kernel.accessAllowed ? 'block' : 'none';\n",
              "    })();\n",
              "  </script>\n",
              "</div>\n",
              "\n",
              "    </div>\n",
              "  </div>\n"
            ],
            "application/vnd.google.colaboratory.intrinsic+json": {
              "type": "dataframe",
              "summary": "{\n  \"name\": \"plot_predictions2(model_lstm3,X_test3,y_test3)\",\n  \"rows\": 100,\n  \"fields\": [\n    {\n      \"column\": \"predicted_temp\",\n      \"properties\": {\n        \"dtype\": \"float32\",\n        \"num_unique_values\": 100,\n        \"samples\": [\n          0.6286555528640747,\n          0.5215719938278198,\n          0.5336751937866211\n        ],\n        \"semantic_type\": \"\",\n        \"description\": \"\"\n      }\n    },\n    {\n      \"column\": \"actual_temp\",\n      \"properties\": {\n        \"dtype\": \"number\",\n        \"std\": 0.06285368728477557,\n        \"min\": 0.4703668077299523,\n        \"max\": 0.7622424354031967,\n        \"num_unique_values\": 94,\n        \"samples\": [\n          0.6085867564117532,\n          0.5842637874389829,\n          0.5681264330243563\n        ],\n        \"semantic_type\": \"\",\n        \"description\": \"\"\n      }\n    },\n    {\n      \"column\": \"predicted_pressure\",\n      \"properties\": {\n        \"dtype\": \"float32\",\n        \"num_unique_values\": 100,\n        \"samples\": [\n          4.022074222564697,\n          4.021585941314697,\n          4.041963577270508\n        ],\n        \"semantic_type\": \"\",\n        \"description\": \"\"\n      }\n    },\n    {\n      \"column\": \"actual_pressure\",\n      \"properties\": {\n        \"dtype\": \"number\",\n        \"std\": 0.014132227735818766,\n        \"min\": 3.9829185720866733,\n        \"max\": 4.064873833152132,\n        \"num_unique_values\": 75,\n        \"samples\": [\n          4.0164031501791335,\n          4.017808097511683,\n          4.01382741340279\n        ],\n        \"semantic_type\": \"\",\n        \"description\": \"\"\n      }\n    }\n  ]\n}"
            }
          },
          "metadata": {},
          "execution_count": 103
        },
        {
          "output_type": "display_data",
          "data": {
            "text/plain": [
              "<Figure size 640x480 with 1 Axes>"
            ],
            "image/png": "[encoded data removed]"
          },
          "metadata": {}
        }
      ]
    },
    {
      "cell_type": "code",
      "source": [
        "def postprocess_temp(arr):\n",
        "  arr=(arr*temp_train_std)+temp_train_mean\n",
        "  return arr\n",
        "def postprocess_p(arr):\n",
        "  arr=(arr*p_train_std)+p_train_mean\n",
        "  return arr\n",
        ""
      ],
      "metadata": {
        "id": "XBt6dq6lRT9o"
      },
      "execution_count": 104,
      "outputs": []
    },
    {
      "cell_type": "code",
      "source": [
        "\n",
        "def plot_predictions2(model,X,y,start=0,end=100):\n",
        "  pred=model.predict(X)\n",
        "  p_pred,t_pred=postprocess_p(pred[:,0]),postprocess_temp(pred[:,1])\n",
        "  p_actual,t_actual=postprocess_p(y[:,0]),postprocess_temp(y[:,1])\n",
        "  df = pd.DataFrame(data={'predicted_temp':t_pred,\n",
        "                          'actual_temp':t_actual,\n",
        "                          'predicted_pressure':p_pred,\n",
        "                          'actual_pressure':p_actual})\n",
        "  plt.plot(df['predicted_temp'][start:end])\n",
        "  plt.plot(df['actual_temp'][start:end])\n",
        "  plt.plot(df['predicted_pressure'][start:end])\n",
        "  plt.plot(df['actual_pressure'][start:end])\n",
        "  return df[start:end]"
      ],
      "metadata": {
        "id": "tYLepm8nXzLn"
      },
      "execution_count": 105,
      "outputs": []
    },
    {
      "cell_type": "code",
      "source": [
        "postprocessed_df=plot_predictions2(model_lstm3,X_test3,y_test3)"
      ],
      "metadata": {
        "colab": {
          "base_uri": "https://localhost:8080/",
          "height": 447
        },
        "id": "y7d7VuQuYMyz",
        "outputId": "051ebe9d-eb42-4268-83c0-6d0677653f57"
      },
      "execution_count": 107,
      "outputs": [
        {
          "output_type": "stream",
          "name": "stdout",
          "text": [
            "159/159 [==============================] - 1s 5ms/step\n"
          ]
        },
        {
          "output_type": "display_data",
          "data": {
            "text/plain": [
              "<Figure size 640x480 with 1 Axes>"
            ],
            "image/png": "[encoded data removed]"
          },
          "metadata": {}
        }
      ]
    },
    {
      "cell_type": "code",
      "source": [
        "start=0\n",
        "end=100\n",
        "plt.plot(postprocessed_df['predicted_temp'][start:end])\n",
        "plt.plot(postprocessed_df['actual_temp'][start:end])\n"
      ],
      "metadata": {
        "colab": {
          "base_uri": "https://localhost:8080/",
          "height": 447
        },
        "id": "ixOOjKS_YP90",
        "outputId": "3457de3b-1381-4d4c-9d57-c58c82afcdd8"
      },
      "execution_count": 108,
      "outputs": [
        {
          "output_type": "execute_result",
          "data": {
            "text/plain": [
              "[<matplotlib.lines.Line2D at 0x7d80dc4ab430>]"
            ]
          },
          "metadata": {},
          "execution_count": 108
        },
        {
          "output_type": "display_data",
          "data": {
            "text/plain": [
              "<Figure size 640x480 with 1 Axes>"
            ],
            "image/png": "[encoded data removed]"
          },
          "metadata": {}
        }
      ]
    },
    {
      "cell_type": "code",
      "source": [
        "plt.plot(postprocessed_df['predicted_pressure'][start:end])\n",
        "plt.plot(postprocessed_df['actual_pressure'][start:end])"
      ],
      "metadata": {
        "colab": {
          "base_uri": "https://localhost:8080/",
          "height": 450
        },
        "id": "dBqK6IBrY3aP",
        "outputId": "8b86a6e3-3ea6-4875-c918-27ff84d8e45b"
      },
      "execution_count": 110,
      "outputs": [
        {
          "output_type": "execute_result",
          "data": {
            "text/plain": [
              "[<matplotlib.lines.Line2D at 0x7d80d6a5d330>]"
            ]
          },
          "metadata": {},
          "execution_count": 110
        },
        {
          "output_type": "display_data",
          "data": {
            "text/plain": [
              "<Figure size 640x480 with 1 Axes>"
            ],
            "image/png": "[encoded data removed]"
          },
          "metadata": {}
        }
      ]
    },
    {
      "cell_type": "code",
      "source": [
        "model_lstm4 = Sequential()\n",
        "model_lstm4.add(InputLayer((7, 6)))   # 7 timesteps and 6 featues\n",
        "model_lstm4.add(LSTM(32,return_sequences=True))\n",
        "model_lstm4.add(LSTM(64))\n",
        "model_lstm4.add(Dense(8, 'relu'))\n",
        "model_lstm4.add(Dense(2, 'linear'))\n",
        "\n",
        "model_lstm4.summary()"
      ],
      "metadata": {
        "colab": {
          "base_uri": "https://localhost:8080/"
        },
        "id": "7_Us67nVY8C9",
        "outputId": "86522387-61d1-40cb-a4d0-fda78fc55f0c"
      },
      "execution_count": 111,
      "outputs": [
        {
          "output_type": "stream",
          "name": "stdout",
          "text": [
            "Model: \"sequential_12\"\n",
            "_________________________________________________________________\n",
            " Layer (type)                Output Shape              Param #   \n",
            "=================================================================\n",
            " lstm_8 (LSTM)               (None, 7, 32)             4992      \n",
            "                                                                 \n",
            " lstm_9 (LSTM)               (None, 64)                24832     \n",
            "                                                                 \n",
            " dense_24 (Dense)            (None, 8)                 520       \n",
            "                                                                 \n",
            " dense_25 (Dense)            (None, 2)                 18        \n",
            "                                                                 \n",
            "=================================================================\n",
            "Total params: 30362 (118.60 KB)\n",
            "Trainable params: 30362 (118.60 KB)\n",
            "Non-trainable params: 0 (0.00 Byte)\n",
            "_________________________________________________________________\n"
          ]
        }
      ]
    },
    {
      "cell_type": "code",
      "source": [
        "cp6= ModelCheckpoint('model_lstm4/', save_best_only=True)\n",
        "model_lstm4.compile(loss=MeanSquaredError(), optimizer=Adam(learning_rate=0.0001), metrics=[RootMeanSquaredError()])"
      ],
      "metadata": {
        "id": "LZBQTgx5Znwc"
      },
      "execution_count": 112,
      "outputs": []
    },
    {
      "cell_type": "code",
      "source": [
        "model_lstm4.fit(X_train3,y_train3, validation_data=(X_val3,y_val3),epochs=15,callbacks=[cp6])"
      ],
      "metadata": {
        "colab": {
          "base_uri": "https://localhost:8080/"
        },
        "id": "68bqXOETZxn9",
        "outputId": "16768a68-61de-44db-f1b4-00081c113883"
      },
      "execution_count": 113,
      "outputs": [
        {
          "output_type": "stream",
          "name": "stdout",
          "text": [
            "Epoch 1/15\n",
            "1875/1875 [==============================] - 30s 13ms/step - loss: 0.4269 - root_mean_squared_error: 0.6534 - val_loss: 0.0172 - val_root_mean_squared_error: 0.1310\n",
            "Epoch 2/15\n",
            "1875/1875 [==============================] - 60s 32ms/step - loss: 0.0042 - root_mean_squared_error: 0.0647 - val_loss: 0.0018 - val_root_mean_squared_error: 0.0429\n",
            "Epoch 3/15\n",
            "1875/1875 [==============================] - 28s 15ms/step - loss: 0.0016 - root_mean_squared_error: 0.0404 - val_loss: 0.0015 - val_root_mean_squared_error: 0.0391\n",
            "Epoch 4/15\n",
            "1875/1875 [==============================] - 25s 13ms/step - loss: 0.0015 - root_mean_squared_error: 0.0385 - val_loss: 0.0014 - val_root_mean_squared_error: 0.0380\n",
            "Epoch 5/15\n",
            "1875/1875 [==============================] - 27s 15ms/step - loss: 0.0014 - root_mean_squared_error: 0.0371 - val_loss: 0.0014 - val_root_mean_squared_error: 0.0372\n",
            "Epoch 6/15\n",
            "1875/1875 [==============================] - 27s 14ms/step - loss: 0.0013 - root_mean_squared_error: 0.0358 - val_loss: 0.0012 - val_root_mean_squared_error: 0.0345\n",
            "Epoch 7/15\n",
            "1875/1875 [==============================] - 25s 13ms/step - loss: 0.0012 - root_mean_squared_error: 0.0343 - val_loss: 0.0011 - val_root_mean_squared_error: 0.0337\n",
            "Epoch 8/15\n",
            "1875/1875 [==============================] - 25s 13ms/step - loss: 0.0011 - root_mean_squared_error: 0.0329 - val_loss: 0.0010 - val_root_mean_squared_error: 0.0320\n",
            "Epoch 9/15\n",
            "1875/1875 [==============================] - 26s 14ms/step - loss: 9.8530e-04 - root_mean_squared_error: 0.0314 - val_loss: 8.8379e-04 - val_root_mean_squared_error: 0.0297\n",
            "Epoch 10/15\n",
            "1875/1875 [==============================] - 25s 14ms/step - loss: 8.8527e-04 - root_mean_squared_error: 0.0298 - val_loss: 8.6460e-04 - val_root_mean_squared_error: 0.0294\n",
            "Epoch 11/15\n",
            "1875/1875 [==============================] - 24s 13ms/step - loss: 7.7772e-04 - root_mean_squared_error: 0.0279 - val_loss: 7.8162e-04 - val_root_mean_squared_error: 0.0280\n",
            "Epoch 12/15\n",
            "1875/1875 [==============================] - 25s 13ms/step - loss: 6.9712e-04 - root_mean_squared_error: 0.0264 - val_loss: 6.0614e-04 - val_root_mean_squared_error: 0.0246\n",
            "Epoch 13/15\n",
            "1875/1875 [==============================] - 18s 10ms/step - loss: 6.1501e-04 - root_mean_squared_error: 0.0248 - val_loss: 6.2623e-04 - val_root_mean_squared_error: 0.0250\n",
            "Epoch 14/15\n",
            "1875/1875 [==============================] - 26s 14ms/step - loss: 5.6351e-04 - root_mean_squared_error: 0.0237 - val_loss: 5.0119e-04 - val_root_mean_squared_error: 0.0224\n",
            "Epoch 15/15\n",
            "1875/1875 [==============================] - 24s 13ms/step - loss: 5.1934e-04 - root_mean_squared_error: 0.0228 - val_loss: 4.4094e-04 - val_root_mean_squared_error: 0.0210\n"
          ]
        },
        {
          "output_type": "execute_result",
          "data": {
            "text/plain": [
              "<keras.src.callbacks.History at 0x7d80d709b340>"
            ]
          },
          "metadata": {},
          "execution_count": 113
        }
      ]
    },
    {
      "cell_type": "code",
      "source": [
        "postprocessed_df=plot_predictions2(model_lstm4,X_test3,y_test3)"
      ],
      "metadata": {
        "colab": {
          "base_uri": "https://localhost:8080/",
          "height": 447
        },
        "id": "_RY2k4R3aJ2w",
        "outputId": "c0c5cc64-2233-4f23-cbbe-8dddde52e022"
      },
      "execution_count": 115,
      "outputs": [
        {
          "output_type": "stream",
          "name": "stdout",
          "text": [
            "159/159 [==============================] - 2s 4ms/step\n"
          ]
        },
        {
          "output_type": "display_data",
          "data": {
            "text/plain": [
              "<Figure size 640x480 with 1 Axes>"
            ],
            "image/png": "[encoded data removed]"
          },
          "metadata": {}
        }
      ]
    },
    {
      "cell_type": "code",
      "source": [
        "plt.plot(postprocessed_df['predicted_temp'][start:end])\n",
        "plt.plot(postprocessed_df['actual_temp'][start:end])"
      ],
      "metadata": {
        "colab": {
          "base_uri": "https://localhost:8080/",
          "height": 447
        },
        "id": "5IeOXdhaaSio",
        "outputId": "fa7251ec-d923-4f8a-d601-591332e6908a"
      },
      "execution_count": 116,
      "outputs": [
        {
          "output_type": "execute_result",
          "data": {
            "text/plain": [
              "[<matplotlib.lines.Line2D at 0x7d80dc611ed0>]"
            ]
          },
          "metadata": {},
          "execution_count": 116
        },
        {
          "output_type": "display_data",
          "data": {
            "text/plain": [
              "<Figure size 640x480 with 1 Axes>"
            ],
            "image/png": "[encoded data removed]"
          },
          "metadata": {}
        }
      ]
    },
    {
      "cell_type": "code",
      "source": [
        "plt.plot(postprocessed_df['predicted_pressure'][start:end])\n",
        "plt.plot(postprocessed_df['actual_pressure'][start:end])"
      ],
      "metadata": {
        "colab": {
          "base_uri": "https://localhost:8080/",
          "height": 447
        },
        "id": "h5hxDZDvaS-U",
        "outputId": "c5a5470d-04de-4876-dafa-30509dede789"
      },
      "execution_count": 117,
      "outputs": [
        {
          "output_type": "execute_result",
          "data": {
            "text/plain": [
              "[<matplotlib.lines.Line2D at 0x7d80dc5f9d80>]"
            ]
          },
          "metadata": {},
          "execution_count": 117
        },
        {
          "output_type": "display_data",
          "data": {
            "text/plain": [
              "<Figure size 640x480 with 1 Axes>"
            ],
            "image/png": "[encoded data removed]"
          },
          "metadata": {}
        }
      ]
    },
    {
      "cell_type": "code",
      "source": [
        "postprocessed_df"
      ],
      "metadata": {
        "colab": {
          "base_uri": "https://localhost:8080/",
          "height": 423
        },
        "id": "vXcKh6-SaU5L",
        "outputId": "906ebdaf-9f43-4448-fa43-c911db6f7ce6"
      },
      "execution_count": 118,
      "outputs": [
        {
          "output_type": "execute_result",
          "data": {
            "text/plain": [
              "    predicted_temp  actual_temp  predicted_pressure  actual_pressure\n",
              "0        12.715216      13.3258          944.084961       944.832493\n",
              "1        12.283722      12.8258          944.264282       945.082493\n",
              "2        12.017927      12.5658          944.556824       945.422493\n",
              "3        12.049591      11.9458          944.942566       945.992493\n",
              "4        12.059454      11.9858          945.514465       945.992493\n",
              "..             ...          ...                 ...              ...\n",
              "95       14.844618      15.9158          947.101013       947.942493\n",
              "96       14.559629      15.6658          947.163147       948.082493\n",
              "97       14.404858      15.4658          947.288025       948.082493\n",
              "98       14.454454      15.2758          947.441895       948.072493\n",
              "99       14.724293      15.3758          947.659058       948.332493\n",
              "\n",
              "[100 rows x 4 columns]"
            ],
            "text/html": [
              "\n",
              "  <div id=\"df-96113171-1227-439e-99c9-54b0d5c96dea\" class=\"colab-df-container\">\n",
              "    <div>\n",
              "<style scoped>\n",
              "    .dataframe tbody tr th:only-of-type {\n",
              "        vertical-align: middle;\n",
              "    }\n",
              "\n",
              "    .dataframe tbody tr th {\n",
              "        vertical-align: top;\n",
              "    }\n",
              "\n",
              "    .dataframe thead th {\n",
              "        text-align: right;\n",
              "    }\n",
              "</style>\n",
              "<table border=\"1\" class=\"dataframe\">\n",
              "  <thead>\n",
              "    <tr style=\"text-align: right;\">\n",
              "      <th></th>\n",
              "      <th>predicted_temp</th>\n",
              "      <th>actual_temp</th>\n",
              "      <th>predicted_pressure</th>\n",
              "      <th>actual_pressure</th>\n",
              "    </tr>\n",
              "  </thead>\n",
              "  <tbody>\n",
              "    <tr>\n",
              "      <th>0</th>\n",
              "      <td>12.715216</td>\n",
              "      <td>13.3258</td>\n",
              "      <td>944.084961</td>\n",
              "      <td>944.832493</td>\n",
              "    </tr>\n",
              "    <tr>\n",
              "      <th>1</th>\n",
              "      <td>12.283722</td>\n",
              "      <td>12.8258</td>\n",
              "      <td>944.264282</td>\n",
              "      <td>945.082493</td>\n",
              "    </tr>\n",
              "    <tr>\n",
              "      <th>2</th>\n",
              "      <td>12.017927</td>\n",
              "      <td>12.5658</td>\n",
              "      <td>944.556824</td>\n",
              "      <td>945.422493</td>\n",
              "    </tr>\n",
              "    <tr>\n",
              "      <th>3</th>\n",
              "      <td>12.049591</td>\n",
              "      <td>11.9458</td>\n",
              "      <td>944.942566</td>\n",
              "      <td>945.992493</td>\n",
              "    </tr>\n",
              "    <tr>\n",
              "      <th>4</th>\n",
              "      <td>12.059454</td>\n",
              "      <td>11.9858</td>\n",
              "      <td>945.514465</td>\n",
              "      <td>945.992493</td>\n",
              "    </tr>\n",
              "    <tr>\n",
              "      <th>...</th>\n",
              "      <td>...</td>\n",
              "      <td>...</td>\n",
              "      <td>...</td>\n",
              "      <td>...</td>\n",
              "    </tr>\n",
              "    <tr>\n",
              "      <th>95</th>\n",
              "      <td>14.844618</td>\n",
              "      <td>15.9158</td>\n",
              "      <td>947.101013</td>\n",
              "      <td>947.942493</td>\n",
              "    </tr>\n",
              "    <tr>\n",
              "      <th>96</th>\n",
              "      <td>14.559629</td>\n",
              "      <td>15.6658</td>\n",
              "      <td>947.163147</td>\n",
              "      <td>948.082493</td>\n",
              "    </tr>\n",
              "    <tr>\n",
              "      <th>97</th>\n",
              "      <td>14.404858</td>\n",
              "      <td>15.4658</td>\n",
              "      <td>947.288025</td>\n",
              "      <td>948.082493</td>\n",
              "    </tr>\n",
              "    <tr>\n",
              "      <th>98</th>\n",
              "      <td>14.454454</td>\n",
              "      <td>15.2758</td>\n",
              "      <td>947.441895</td>\n",
              "      <td>948.072493</td>\n",
              "    </tr>\n",
              "    <tr>\n",
              "      <th>99</th>\n",
              "      <td>14.724293</td>\n",
              "      <td>15.3758</td>\n",
              "      <td>947.659058</td>\n",
              "      <td>948.332493</td>\n",
              "    </tr>\n",
              "  </tbody>\n",
              "</table>\n",
              "<p>100 rows × 4 columns</p>\n",
              "</div>\n",
              "    <div class=\"colab-df-buttons\">\n",
              "\n",
              "  <div class=\"colab-df-container\">\n",
              "    <button class=\"colab-df-convert\" onclick=\"convertToInteractive('df-96113171-1227-439e-99c9-54b0d5c96dea')\"\n",
              "            title=\"Convert this dataframe to an interactive table.\"\n",
              "            style=\"display:none;\">\n",
              "\n",
              "  <svg xmlns=\"http://www.w3.org/2000/svg\" height=\"24px\" viewBox=\"0 -960 960 960\">\n",
              "    <path d=\"M120-120v-720h720v720H120Zm60-500h600v-160H180v160Zm220 220h160v-160H400v160Zm0 220h160v-160H400v160ZM180-400h160v-160H180v160Zm440 0h160v-160H620v160ZM180-180h160v-160H180v160Zm440 0h160v-160H620v160Z\"/>\n",
              "  </svg>\n",
              "    </button>\n",
              "\n",
              "  <style>\n",
              "    .colab-df-container {\n",
              "      display:flex;\n",
              "      gap: 12px;\n",
              "    }\n",
              "\n",
              "    .colab-df-convert {\n",
              "      background-color: #E8F0FE;\n",
              "      border: none;\n",
              "      border-radius: 50%;\n",
              "      cursor: pointer;\n",
              "      display: none;\n",
              "      fill: #1967D2;\n",
              "      height: 32px;\n",
              "      padding: 0 0 0 0;\n",
              "      width: 32px;\n",
              "    }\n",
              "\n",
              "    .colab-df-convert:hover {\n",
              "      background-color: #E2EBFA;\n",
              "      box-shadow: 0px 1px 2px rgba(60, 64, 67, 0.3), 0px 1px 3px 1px rgba(60, 64, 67, 0.15);\n",
              "      fill: #174EA6;\n",
              "    }\n",
              "\n",
              "    .colab-df-buttons div {\n",
              "      margin-bottom: 4px;\n",
              "    }\n",
              "\n",
              "    [theme=dark] .colab-df-convert {\n",
              "      background-color: #3B4455;\n",
              "      fill: #D2E3FC;\n",
              "    }\n",
              "\n",
              "    [theme=dark] .colab-df-convert:hover {\n",
              "      background-color: #434B5C;\n",
              "      box-shadow: 0px 1px 3px 1px rgba(0, 0, 0, 0.15);\n",
              "      filter: drop-shadow(0px 1px 2px rgba(0, 0, 0, 0.3));\n",
              "      fill: #FFFFFF;\n",
              "    }\n",
              "  </style>\n",
              "\n",
              "    <script>\n",
              "      const buttonEl =\n",
              "        document.querySelector('#df-96113171-1227-439e-99c9-54b0d5c96dea button.colab-df-convert');\n",
              "      buttonEl.style.display =\n",
              "        google.colab.kernel.accessAllowed ? 'block' : 'none';\n",
              "\n",
              "      async function convertToInteractive(key) {\n",
              "        const element = document.querySelector('#df-96113171-1227-439e-99c9-54b0d5c96dea');\n",
              "        const dataTable =\n",
              "          await google.colab.kernel.invokeFunction('convertToInteractive',\n",
              "                                                    [key], {});\n",
              "        if (!dataTable) return;\n",
              "\n",
              "        const docLinkHtml = 'Like what you see? Visit the ' +\n",
              "          '<a target=\"_blank\" href=https://colab.research.google.com/notebooks/data_table.ipynb>data table notebook</a>'\n",
              "          + ' to learn more about interactive tables.';\n",
              "        element.innerHTML = '';\n",
              "        dataTable['output_type'] = 'display_data';\n",
              "        await google.colab.output.renderOutput(dataTable, element);\n",
              "        const docLink = document.createElement('div');\n",
              "        docLink.innerHTML = docLinkHtml;\n",
              "        element.appendChild(docLink);\n",
              "      }\n",
              "    </script>\n",
              "  </div>\n",
              "\n",
              "\n",
              "<div id=\"df-4bb2e3c9-fb8f-4078-9b96-382266c6bb82\">\n",
              "  <button class=\"colab-df-quickchart\" onclick=\"quickchart('df-4bb2e3c9-fb8f-4078-9b96-382266c6bb82')\"\n",
              "            title=\"Suggest charts\"\n",
              "            style=\"display:none;\">\n",
              "\n",
              "<svg xmlns=\"http://www.w3.org/2000/svg\" height=\"24px\"viewBox=\"0 0 24 24\"\n",
              "     width=\"24px\">\n",
              "    <g>\n",
              "        <path d=\"M19 3H5c-1.1 0-2 .9-2 2v14c0 1.1.9 2 2 2h14c1.1 0 2-.9 2-2V5c0-1.1-.9-2-2-2zM9 17H7v-7h2v7zm4 0h-2V7h2v10zm4 0h-2v-4h2v4z\"/>\n",
              "    </g>\n",
              "</svg>\n",
              "  </button>\n",
              "\n",
              "<style>\n",
              "  .colab-df-quickchart {\n",
              "      --bg-color: #E8F0FE;\n",
              "      --fill-color: #1967D2;\n",
              "      --hover-bg-color: #E2EBFA;\n",
              "      --hover-fill-color: #174EA6;\n",
              "      --disabled-fill-color: #AAA;\n",
              "      --disabled-bg-color: #DDD;\n",
              "  }\n",
              "\n",
              "  [theme=dark] .colab-df-quickchart {\n",
              "      --bg-color: #3B4455;\n",
              "      --fill-color: #D2E3FC;\n",
              "      --hover-bg-color: #434B5C;\n",
              "      --hover-fill-color: #FFFFFF;\n",
              "      --disabled-bg-color: #3B4455;\n",
              "      --disabled-fill-color: #666;\n",
              "  }\n",
              "\n",
              "  .colab-df-quickchart {\n",
              "    background-color: var(--bg-color);\n",
              "    border: none;\n",
              "    border-radius: 50%;\n",
              "    cursor: pointer;\n",
              "    display: none;\n",
              "    fill: var(--fill-color);\n",
              "    height: 32px;\n",
              "    padding: 0;\n",
              "    width: 32px;\n",
              "  }\n",
              "\n",
              "  .colab-df-quickchart:hover {\n",
              "    background-color: var(--hover-bg-color);\n",
              "    box-shadow: 0 1px 2px rgba(60, 64, 67, 0.3), 0 1px 3px 1px rgba(60, 64, 67, 0.15);\n",
              "    fill: var(--button-hover-fill-color);\n",
              "  }\n",
              "\n",
              "  .colab-df-quickchart-complete:disabled,\n",
              "  .colab-df-quickchart-complete:disabled:hover {\n",
              "    background-color: var(--disabled-bg-color);\n",
              "    fill: var(--disabled-fill-color);\n",
              "    box-shadow: none;\n",
              "  }\n",
              "\n",
              "  .colab-df-spinner {\n",
              "    border: 2px solid var(--fill-color);\n",
              "    border-color: transparent;\n",
              "    border-bottom-color: var(--fill-color);\n",
              "    animation:\n",
              "      spin 1s steps(1) infinite;\n",
              "  }\n",
              "\n",
              "  @keyframes spin {\n",
              "    0% {\n",
              "      border-color: transparent;\n",
              "      border-bottom-color: var(--fill-color);\n",
              "      border-left-color: var(--fill-color);\n",
              "    }\n",
              "    20% {\n",
              "      border-color: transparent;\n",
              "      border-left-color: var(--fill-color);\n",
              "      border-top-color: var(--fill-color);\n",
              "    }\n",
              "    30% {\n",
              "      border-color: transparent;\n",
              "      border-left-color: var(--fill-color);\n",
              "      border-top-color: var(--fill-color);\n",
              "      border-right-color: var(--fill-color);\n",
              "    }\n",
              "    40% {\n",
              "      border-color: transparent;\n",
              "      border-right-color: var(--fill-color);\n",
              "      border-top-color: var(--fill-color);\n",
              "    }\n",
              "    60% {\n",
              "      border-color: transparent;\n",
              "      border-right-color: var(--fill-color);\n",
              "    }\n",
              "    80% {\n",
              "      border-color: transparent;\n",
              "      border-right-color: var(--fill-color);\n",
              "      border-bottom-color: var(--fill-color);\n",
              "    }\n",
              "    90% {\n",
              "      border-color: transparent;\n",
              "      border-bottom-color: var(--fill-color);\n",
              "    }\n",
              "  }\n",
              "</style>\n",
              "\n",
              "  <script>\n",
              "    async function quickchart(key) {\n",
              "      const quickchartButtonEl =\n",
              "        document.querySelector('#' + key + ' button');\n",
              "      quickchartButtonEl.disabled = true;  // To prevent multiple clicks.\n",
              "      quickchartButtonEl.classList.add('colab-df-spinner');\n",
              "      try {\n",
              "        const charts = await google.colab.kernel.invokeFunction(\n",
              "            'suggestCharts', [key], {});\n",
              "      } catch (error) {\n",
              "        console.error('Error during call to suggestCharts:', error);\n",
              "      }\n",
              "      quickchartButtonEl.classList.remove('colab-df-spinner');\n",
              "      quickchartButtonEl.classList.add('colab-df-quickchart-complete');\n",
              "    }\n",
              "    (() => {\n",
              "      let quickchartButtonEl =\n",
              "        document.querySelector('#df-4bb2e3c9-fb8f-4078-9b96-382266c6bb82 button');\n",
              "      quickchartButtonEl.style.display =\n",
              "        google.colab.kernel.accessAllowed ? 'block' : 'none';\n",
              "    })();\n",
              "  </script>\n",
              "</div>\n",
              "\n",
              "  <div id=\"id_60b234d5-ad22-4447-9f3c-d2474ba781f8\">\n",
              "    <style>\n",
              "      .colab-df-generate {\n",
              "        background-color: #E8F0FE;\n",
              "        border: none;\n",
              "        border-radius: 50%;\n",
              "        cursor: pointer;\n",
              "        display: none;\n",
              "        fill: #1967D2;\n",
              "        height: 32px;\n",
              "        padding: 0 0 0 0;\n",
              "        width: 32px;\n",
              "      }\n",
              "\n",
              "      .colab-df-generate:hover {\n",
              "        background-color: #E2EBFA;\n",
              "        box-shadow: 0px 1px 2px rgba(60, 64, 67, 0.3), 0px 1px 3px 1px rgba(60, 64, 67, 0.15);\n",
              "        fill: #174EA6;\n",
              "      }\n",
              "\n",
              "      [theme=dark] .colab-df-generate {\n",
              "        background-color: #3B4455;\n",
              "        fill: #D2E3FC;\n",
              "      }\n",
              "\n",
              "      [theme=dark] .colab-df-generate:hover {\n",
              "        background-color: #434B5C;\n",
              "        box-shadow: 0px 1px 3px 1px rgba(0, 0, 0, 0.15);\n",
              "        filter: drop-shadow(0px 1px 2px rgba(0, 0, 0, 0.3));\n",
              "        fill: #FFFFFF;\n",
              "      }\n",
              "    </style>\n",
              "    <button class=\"colab-df-generate\" onclick=\"generateWithVariable('postprocessed_df')\"\n",
              "            title=\"Generate code using this dataframe.\"\n",
              "            style=\"display:none;\">\n",
              "\n",
              "  <svg xmlns=\"http://www.w3.org/2000/svg\" height=\"24px\"viewBox=\"0 0 24 24\"\n",
              "       width=\"24px\">\n",
              "    <path d=\"M7,19H8.4L18.45,9,17,7.55,7,17.6ZM5,21V16.75L18.45,3.32a2,2,0,0,1,2.83,0l1.4,1.43a1.91,1.91,0,0,1,.58,1.4,1.91,1.91,0,0,1-.58,1.4L9.25,21ZM18.45,9,17,7.55Zm-12,3A5.31,5.31,0,0,0,4.9,8.1,5.31,5.31,0,0,0,1,6.5,5.31,5.31,0,0,0,4.9,4.9,5.31,5.31,0,0,0,6.5,1,5.31,5.31,0,0,0,8.1,4.9,5.31,5.31,0,0,0,12,6.5,5.46,5.46,0,0,0,6.5,12Z\"/>\n",
              "  </svg>\n",
              "    </button>\n",
              "    <script>\n",
              "      (() => {\n",
              "      const buttonEl =\n",
              "        document.querySelector('#id_60b234d5-ad22-4447-9f3c-d2474ba781f8 button.colab-df-generate');\n",
              "      buttonEl.style.display =\n",
              "        google.colab.kernel.accessAllowed ? 'block' : 'none';\n",
              "\n",
              "      buttonEl.onclick = () => {\n",
              "        google.colab.notebook.generateWithVariable('postprocessed_df');\n",
              "      }\n",
              "      })();\n",
              "    </script>\n",
              "  </div>\n",
              "\n",
              "    </div>\n",
              "  </div>\n"
            ],
            "application/vnd.google.colaboratory.intrinsic+json": {
              "type": "dataframe",
              "variable_name": "postprocessed_df",
              "summary": "{\n  \"name\": \"postprocessed_df\",\n  \"rows\": 100,\n  \"fields\": [\n    {\n      \"column\": \"predicted_temp\",\n      \"properties\": {\n        \"dtype\": \"float32\",\n        \"num_unique_values\": 100,\n        \"samples\": [\n          19.364377975463867,\n          14.126440048217773,\n          14.913511276245117\n        ],\n        \"semantic_type\": \"\",\n        \"description\": \"\"\n      }\n    },\n    {\n      \"column\": \"actual_temp\",\n      \"properties\": {\n        \"dtype\": \"number\",\n        \"std\": 2.6874940657674684,\n        \"min\": 11.945799911876401,\n        \"max\": 24.425799911876403,\n        \"num_unique_values\": 94,\n        \"samples\": [\n          17.855799911876403,\n          16.81579991187641,\n          16.1257999118764\n        ],\n        \"semantic_type\": \"\",\n        \"description\": \"\"\n      }\n    },\n    {\n      \"column\": \"predicted_pressure\",\n      \"properties\": {\n        \"dtype\": \"float32\",\n        \"num_unique_values\": 100,\n        \"samples\": [\n          946.7233276367188,\n          946.699462890625,\n          947.1800537109375\n        ],\n        \"semantic_type\": \"\",\n        \"description\": \"\"\n      }\n    },\n    {\n      \"column\": \"actual_pressure\",\n      \"properties\": {\n        \"dtype\": \"number\",\n        \"std\": 0.6035341286492777,\n        \"min\": 944.8324925854707,\n        \"max\": 948.3324925854707,\n        \"num_unique_values\": 75,\n        \"samples\": [\n          946.2624925854708,\n          946.3224925854707,\n          946.1524925854708\n        ],\n        \"semantic_type\": \"\",\n        \"description\": \"\"\n      }\n    }\n  ]\n}"
            }
          },
          "metadata": {},
          "execution_count": 118
        }
      ]
    },
    {
      "cell_type": "code",
      "source": [],
      "metadata": {
        "id": "inp8OXRLbwMV"
      },
      "execution_count": null,
      "outputs": []
    }
  ],
  "metadata": {
    "accelerator": "TPU",
    "colab": {
      "provenance": [],
      "authorship_tag": "ABX9TyOBRuGIRuwN/tR4tH3HanpX",
      "include_colab_link": true
    },
    "kernelspec": {
      "display_name": "Python 3",
      "name": "python3"
    },
    "language_info": {
      "name": "python"
    }
  },
  "nbformat": 4,
  "nbformat_minor": 0
}